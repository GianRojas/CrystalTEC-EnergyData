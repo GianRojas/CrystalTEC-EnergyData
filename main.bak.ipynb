{
 "cells": [
  {
   "cell_type": "markdown",
   "metadata": {},
   "source": [
    "## Exploratory data analisys and Data Preparation\n",
    "### Missing Values"
   ]
  },
  {
   "cell_type": "markdown",
   "metadata": {},
   "source": [
    "1. Import libraries"
   ]
  },
  {
   "cell_type": "code",
   "execution_count": 70,
   "metadata": {},
   "outputs": [],
   "source": [
    "import pandas as pd\n",
    "import matplotlib.pyplot as plt\n",
    "import numpy as np\n",
    "\n",
    "%matplotlib inline"
   ]
  },
  {
   "cell_type": "markdown",
   "metadata": {},
   "source": [
    "2. Dataset importing (local and drive modes)"
   ]
  },
  {
   "cell_type": "code",
   "execution_count": 71,
   "metadata": {},
   "outputs": [
    {
     "data": {
      "text/html": [
       "<div>\n",
       "<style scoped>\n",
       "    .dataframe tbody tr th:only-of-type {\n",
       "        vertical-align: middle;\n",
       "    }\n",
       "\n",
       "    .dataframe tbody tr th {\n",
       "        vertical-align: top;\n",
       "    }\n",
       "\n",
       "    .dataframe thead th {\n",
       "        text-align: right;\n",
       "    }\n",
       "</style>\n",
       "<table border=\"1\" class=\"dataframe\">\n",
       "  <thead>\n",
       "    <tr style=\"text-align: right;\">\n",
       "      <th></th>\n",
       "      <th>Hour</th>\n",
       "      <th>energy_consumpt_2001</th>\n",
       "      <th>energy_consumpt_2002</th>\n",
       "      <th>full_temp_2001</th>\n",
       "      <th>full_humid_2001</th>\n",
       "      <th>full_temp_2002</th>\n",
       "      <th>full_humid_2002</th>\n",
       "    </tr>\n",
       "  </thead>\n",
       "  <tbody>\n",
       "    <tr>\n",
       "      <th>0</th>\n",
       "      <td>1</td>\n",
       "      <td>631.623161</td>\n",
       "      <td>835.021567</td>\n",
       "      <td>-0.400000</td>\n",
       "      <td>64.000000</td>\n",
       "      <td>7.600000</td>\n",
       "      <td>82.000000</td>\n",
       "    </tr>\n",
       "    <tr>\n",
       "      <th>1</th>\n",
       "      <td>2</td>\n",
       "      <td>534.397104</td>\n",
       "      <td>711.875374</td>\n",
       "      <td>-0.733333</td>\n",
       "      <td>65.333333</td>\n",
       "      <td>7.733333</td>\n",
       "      <td>78.666667</td>\n",
       "    </tr>\n",
       "    <tr>\n",
       "      <th>2</th>\n",
       "      <td>3</td>\n",
       "      <td>453.538784</td>\n",
       "      <td>592.673215</td>\n",
       "      <td>-1.066667</td>\n",
       "      <td>66.666667</td>\n",
       "      <td>7.866667</td>\n",
       "      <td>75.333333</td>\n",
       "    </tr>\n",
       "    <tr>\n",
       "      <th>3</th>\n",
       "      <td>4</td>\n",
       "      <td>400.699718</td>\n",
       "      <td>526.997961</td>\n",
       "      <td>-1.400000</td>\n",
       "      <td>68.000000</td>\n",
       "      <td>8.000000</td>\n",
       "      <td>72.000000</td>\n",
       "    </tr>\n",
       "    <tr>\n",
       "      <th>4</th>\n",
       "      <td>5</td>\n",
       "      <td>378.171092</td>\n",
       "      <td>497.588642</td>\n",
       "      <td>-1.666667</td>\n",
       "      <td>60.333333</td>\n",
       "      <td>8.333333</td>\n",
       "      <td>69.666667</td>\n",
       "    </tr>\n",
       "    <tr>\n",
       "      <th>...</th>\n",
       "      <td>...</td>\n",
       "      <td>...</td>\n",
       "      <td>...</td>\n",
       "      <td>...</td>\n",
       "      <td>...</td>\n",
       "      <td>...</td>\n",
       "      <td>...</td>\n",
       "    </tr>\n",
       "    <tr>\n",
       "      <th>8779</th>\n",
       "      <td>8780</td>\n",
       "      <td>950.369306</td>\n",
       "      <td>0.000000</td>\n",
       "      <td>3.333333</td>\n",
       "      <td>64.000000</td>\n",
       "      <td>NaN</td>\n",
       "      <td>NaN</td>\n",
       "    </tr>\n",
       "    <tr>\n",
       "      <th>8780</th>\n",
       "      <td>8781</td>\n",
       "      <td>880.138770</td>\n",
       "      <td>0.000000</td>\n",
       "      <td>2.666667</td>\n",
       "      <td>68.000000</td>\n",
       "      <td>NaN</td>\n",
       "      <td>NaN</td>\n",
       "    </tr>\n",
       "    <tr>\n",
       "      <th>8781</th>\n",
       "      <td>8782</td>\n",
       "      <td>792.754026</td>\n",
       "      <td>0.000000</td>\n",
       "      <td>2.000000</td>\n",
       "      <td>72.000000</td>\n",
       "      <td>NaN</td>\n",
       "      <td>NaN</td>\n",
       "    </tr>\n",
       "    <tr>\n",
       "      <th>8782</th>\n",
       "      <td>8783</td>\n",
       "      <td>740.446668</td>\n",
       "      <td>0.000000</td>\n",
       "      <td>1.333333</td>\n",
       "      <td>76.000000</td>\n",
       "      <td>NaN</td>\n",
       "      <td>NaN</td>\n",
       "    </tr>\n",
       "    <tr>\n",
       "      <th>8783</th>\n",
       "      <td>8784</td>\n",
       "      <td>706.176769</td>\n",
       "      <td>0.000000</td>\n",
       "      <td>0.666667</td>\n",
       "      <td>80.000000</td>\n",
       "      <td>NaN</td>\n",
       "      <td>NaN</td>\n",
       "    </tr>\n",
       "  </tbody>\n",
       "</table>\n",
       "<p>8784 rows × 7 columns</p>\n",
       "</div>"
      ],
      "text/plain": [
       "      Hour  energy_consumpt_2001  energy_consumpt_2002  full_temp_2001  \\\n",
       "0        1            631.623161            835.021567       -0.400000   \n",
       "1        2            534.397104            711.875374       -0.733333   \n",
       "2        3            453.538784            592.673215       -1.066667   \n",
       "3        4            400.699718            526.997961       -1.400000   \n",
       "4        5            378.171092            497.588642       -1.666667   \n",
       "...    ...                   ...                   ...             ...   \n",
       "8779  8780            950.369306              0.000000        3.333333   \n",
       "8780  8781            880.138770              0.000000        2.666667   \n",
       "8781  8782            792.754026              0.000000        2.000000   \n",
       "8782  8783            740.446668              0.000000        1.333333   \n",
       "8783  8784            706.176769              0.000000        0.666667   \n",
       "\n",
       "      full_humid_2001  full_temp_2002  full_humid_2002  \n",
       "0           64.000000        7.600000        82.000000  \n",
       "1           65.333333        7.733333        78.666667  \n",
       "2           66.666667        7.866667        75.333333  \n",
       "3           68.000000        8.000000        72.000000  \n",
       "4           60.333333        8.333333        69.666667  \n",
       "...               ...             ...              ...  \n",
       "8779        64.000000             NaN              NaN  \n",
       "8780        68.000000             NaN              NaN  \n",
       "8781        72.000000             NaN              NaN  \n",
       "8782        76.000000             NaN              NaN  \n",
       "8783        80.000000             NaN              NaN  \n",
       "\n",
       "[8784 rows x 7 columns]"
      ]
     },
     "execution_count": 71,
     "metadata": {},
     "output_type": "execute_result"
    }
   ],
   "source": [
    "# Local importing\n",
    "energy_dataframe = pd.read_excel('Energy _data (1).xlsx') # Comment if you want to load the file from repo\n",
    "# Web importing\n",
    "# energy_dataframe = pd.read_excel('https://github.com/GianRojas/CrystalTEC-EnergyData/raw/main/Energy%20_data%20(1).xlsx')\n",
    "energy_dataframe"
   ]
  },
  {
   "cell_type": "markdown",
   "metadata": {},
   "source": [
    "3. Split dataframe by year"
   ]
  },
  {
   "cell_type": "code",
   "execution_count": 72,
   "metadata": {},
   "outputs": [
    {
     "data": {
      "text/html": [
       "<div>\n",
       "<style scoped>\n",
       "    .dataframe tbody tr th:only-of-type {\n",
       "        vertical-align: middle;\n",
       "    }\n",
       "\n",
       "    .dataframe tbody tr th {\n",
       "        vertical-align: top;\n",
       "    }\n",
       "\n",
       "    .dataframe thead th {\n",
       "        text-align: right;\n",
       "    }\n",
       "</style>\n",
       "<table border=\"1\" class=\"dataframe\">\n",
       "  <thead>\n",
       "    <tr style=\"text-align: right;\">\n",
       "      <th></th>\n",
       "      <th>year</th>\n",
       "      <th>Hour</th>\n",
       "      <th>energy_consumpt</th>\n",
       "      <th>full_temp</th>\n",
       "      <th>full_humid</th>\n",
       "    </tr>\n",
       "  </thead>\n",
       "  <tbody>\n",
       "    <tr>\n",
       "      <th>0</th>\n",
       "      <td>2002</td>\n",
       "      <td>1</td>\n",
       "      <td>835.021567</td>\n",
       "      <td>7.600000</td>\n",
       "      <td>82.000000</td>\n",
       "    </tr>\n",
       "    <tr>\n",
       "      <th>1</th>\n",
       "      <td>2002</td>\n",
       "      <td>2</td>\n",
       "      <td>711.875374</td>\n",
       "      <td>7.733333</td>\n",
       "      <td>78.666667</td>\n",
       "    </tr>\n",
       "    <tr>\n",
       "      <th>2</th>\n",
       "      <td>2002</td>\n",
       "      <td>3</td>\n",
       "      <td>592.673215</td>\n",
       "      <td>7.866667</td>\n",
       "      <td>75.333333</td>\n",
       "    </tr>\n",
       "    <tr>\n",
       "      <th>3</th>\n",
       "      <td>2002</td>\n",
       "      <td>4</td>\n",
       "      <td>526.997961</td>\n",
       "      <td>8.000000</td>\n",
       "      <td>72.000000</td>\n",
       "    </tr>\n",
       "    <tr>\n",
       "      <th>4</th>\n",
       "      <td>2002</td>\n",
       "      <td>5</td>\n",
       "      <td>497.588642</td>\n",
       "      <td>8.333333</td>\n",
       "      <td>69.666667</td>\n",
       "    </tr>\n",
       "    <tr>\n",
       "      <th>...</th>\n",
       "      <td>...</td>\n",
       "      <td>...</td>\n",
       "      <td>...</td>\n",
       "      <td>...</td>\n",
       "      <td>...</td>\n",
       "    </tr>\n",
       "    <tr>\n",
       "      <th>8779</th>\n",
       "      <td>2002</td>\n",
       "      <td>8780</td>\n",
       "      <td>0.000000</td>\n",
       "      <td>NaN</td>\n",
       "      <td>NaN</td>\n",
       "    </tr>\n",
       "    <tr>\n",
       "      <th>8780</th>\n",
       "      <td>2002</td>\n",
       "      <td>8781</td>\n",
       "      <td>0.000000</td>\n",
       "      <td>NaN</td>\n",
       "      <td>NaN</td>\n",
       "    </tr>\n",
       "    <tr>\n",
       "      <th>8781</th>\n",
       "      <td>2002</td>\n",
       "      <td>8782</td>\n",
       "      <td>0.000000</td>\n",
       "      <td>NaN</td>\n",
       "      <td>NaN</td>\n",
       "    </tr>\n",
       "    <tr>\n",
       "      <th>8782</th>\n",
       "      <td>2002</td>\n",
       "      <td>8783</td>\n",
       "      <td>0.000000</td>\n",
       "      <td>NaN</td>\n",
       "      <td>NaN</td>\n",
       "    </tr>\n",
       "    <tr>\n",
       "      <th>8783</th>\n",
       "      <td>2002</td>\n",
       "      <td>8784</td>\n",
       "      <td>0.000000</td>\n",
       "      <td>NaN</td>\n",
       "      <td>NaN</td>\n",
       "    </tr>\n",
       "  </tbody>\n",
       "</table>\n",
       "<p>8784 rows × 5 columns</p>\n",
       "</div>"
      ],
      "text/plain": [
       "      year  Hour  energy_consumpt  full_temp  full_humid\n",
       "0     2002     1       835.021567   7.600000   82.000000\n",
       "1     2002     2       711.875374   7.733333   78.666667\n",
       "2     2002     3       592.673215   7.866667   75.333333\n",
       "3     2002     4       526.997961   8.000000   72.000000\n",
       "4     2002     5       497.588642   8.333333   69.666667\n",
       "...    ...   ...              ...        ...         ...\n",
       "8779  2002  8780         0.000000        NaN         NaN\n",
       "8780  2002  8781         0.000000        NaN         NaN\n",
       "8781  2002  8782         0.000000        NaN         NaN\n",
       "8782  2002  8783         0.000000        NaN         NaN\n",
       "8783  2002  8784         0.000000        NaN         NaN\n",
       "\n",
       "[8784 rows x 5 columns]"
      ]
     },
     "execution_count": 72,
     "metadata": {},
     "output_type": "execute_result"
    }
   ],
   "source": [
    "# 2001 dataframe\n",
    "df_2001 = energy_dataframe[['Hour','energy_consumpt_2001','full_temp_2001','full_humid_2001']]\n",
    "df_2001 = df_2001.rename({'energy_consumpt_2001':'energy_consumpt', 'full_temp_2001':'full_temp', 'full_humid_2001':'full_humid'}, axis=1)\n",
    "df_2001.insert(loc=0, column=\"year\", value='2001')\n",
    "\n",
    "# 2002 dataframe\n",
    "df_2002 = energy_dataframe[['Hour','energy_consumpt_2002','full_temp_2002','full_humid_2002']]\n",
    "df_2002 = df_2002.rename({'energy_consumpt_2002':'energy_consumpt', 'full_temp_2002':'full_temp', 'full_humid_2002':'full_humid'}, axis=1)\n",
    "df_2002.insert(loc=0, column=\"year\", value='2002')\n",
    "df_2002"
   ]
  },
  {
   "cell_type": "markdown",
   "metadata": {},
   "source": [
    "4. Compare count of measures"
   ]
  },
  {
   "cell_type": "code",
   "execution_count": 73,
   "metadata": {},
   "outputs": [
    {
     "name": "stdout",
     "output_type": "stream",
     "text": [
      "df_2001 rows: 8784\n",
      "df_2002 rows: 8784\n"
     ]
    }
   ],
   "source": [
    "print(f\"df_2001 rows: {df_2001.Hour.count()}\\ndf_2002 rows: {df_2002.Hour.count()}\")"
   ]
  },
  {
   "cell_type": "markdown",
   "metadata": {},
   "source": [
    "theres is more measures than hours in a normal year (8760)  \n",
    "Take a look on last 24 values"
   ]
  },
  {
   "cell_type": "code",
   "execution_count": 74,
   "metadata": {},
   "outputs": [
    {
     "data": {
      "text/html": [
       "<div>\n",
       "<style scoped>\n",
       "    .dataframe tbody tr th:only-of-type {\n",
       "        vertical-align: middle;\n",
       "    }\n",
       "\n",
       "    .dataframe tbody tr th {\n",
       "        vertical-align: top;\n",
       "    }\n",
       "\n",
       "    .dataframe thead th {\n",
       "        text-align: right;\n",
       "    }\n",
       "</style>\n",
       "<table border=\"1\" class=\"dataframe\">\n",
       "  <thead>\n",
       "    <tr style=\"text-align: right;\">\n",
       "      <th></th>\n",
       "      <th></th>\n",
       "      <th>year</th>\n",
       "      <th>energy_consumpt</th>\n",
       "      <th>full_temp</th>\n",
       "      <th>full_humid</th>\n",
       "    </tr>\n",
       "  </thead>\n",
       "  <tbody>\n",
       "    <tr>\n",
       "      <th rowspan=\"2\" valign=\"top\">8772</th>\n",
       "      <th>self</th>\n",
       "      <td>2001</td>\n",
       "      <td>843.230570</td>\n",
       "      <td>8.800000</td>\n",
       "      <td>35.000000</td>\n",
       "    </tr>\n",
       "    <tr>\n",
       "      <th>other</th>\n",
       "      <td>2002</td>\n",
       "      <td>0.000000</td>\n",
       "      <td>NaN</td>\n",
       "      <td>NaN</td>\n",
       "    </tr>\n",
       "    <tr>\n",
       "      <th rowspan=\"2\" valign=\"top\">8773</th>\n",
       "      <th>self</th>\n",
       "      <td>2001</td>\n",
       "      <td>862.376112</td>\n",
       "      <td>9.866667</td>\n",
       "      <td>33.666667</td>\n",
       "    </tr>\n",
       "    <tr>\n",
       "      <th>other</th>\n",
       "      <td>2002</td>\n",
       "      <td>0.000000</td>\n",
       "      <td>NaN</td>\n",
       "      <td>NaN</td>\n",
       "    </tr>\n",
       "    <tr>\n",
       "      <th rowspan=\"2\" valign=\"top\">8774</th>\n",
       "      <th>self</th>\n",
       "      <td>2001</td>\n",
       "      <td>885.214790</td>\n",
       "      <td>10.933333</td>\n",
       "      <td>32.333333</td>\n",
       "    </tr>\n",
       "    <tr>\n",
       "      <th>other</th>\n",
       "      <td>2002</td>\n",
       "      <td>0.000000</td>\n",
       "      <td>NaN</td>\n",
       "      <td>NaN</td>\n",
       "    </tr>\n",
       "    <tr>\n",
       "      <th rowspan=\"2\" valign=\"top\">8775</th>\n",
       "      <th>self</th>\n",
       "      <td>2001</td>\n",
       "      <td>904.754785</td>\n",
       "      <td>12.000000</td>\n",
       "      <td>31.000000</td>\n",
       "    </tr>\n",
       "    <tr>\n",
       "      <th>other</th>\n",
       "      <td>2002</td>\n",
       "      <td>0.000000</td>\n",
       "      <td>NaN</td>\n",
       "      <td>NaN</td>\n",
       "    </tr>\n",
       "    <tr>\n",
       "      <th rowspan=\"2\" valign=\"top\">8776</th>\n",
       "      <th>self</th>\n",
       "      <td>2001</td>\n",
       "      <td>960.265378</td>\n",
       "      <td>9.333333</td>\n",
       "      <td>40.666667</td>\n",
       "    </tr>\n",
       "    <tr>\n",
       "      <th>other</th>\n",
       "      <td>2002</td>\n",
       "      <td>0.000000</td>\n",
       "      <td>NaN</td>\n",
       "      <td>NaN</td>\n",
       "    </tr>\n",
       "    <tr>\n",
       "      <th rowspan=\"2\" valign=\"top\">8777</th>\n",
       "      <th>self</th>\n",
       "      <td>2001</td>\n",
       "      <td>1008.915444</td>\n",
       "      <td>6.666667</td>\n",
       "      <td>50.333333</td>\n",
       "    </tr>\n",
       "    <tr>\n",
       "      <th>other</th>\n",
       "      <td>2002</td>\n",
       "      <td>0.000000</td>\n",
       "      <td>NaN</td>\n",
       "      <td>NaN</td>\n",
       "    </tr>\n",
       "    <tr>\n",
       "      <th rowspan=\"2\" valign=\"top\">8778</th>\n",
       "      <th>self</th>\n",
       "      <td>2001</td>\n",
       "      <td>994.170651</td>\n",
       "      <td>4.000000</td>\n",
       "      <td>60.000000</td>\n",
       "    </tr>\n",
       "    <tr>\n",
       "      <th>other</th>\n",
       "      <td>2002</td>\n",
       "      <td>0.000000</td>\n",
       "      <td>NaN</td>\n",
       "      <td>NaN</td>\n",
       "    </tr>\n",
       "    <tr>\n",
       "      <th rowspan=\"2\" valign=\"top\">8779</th>\n",
       "      <th>self</th>\n",
       "      <td>2001</td>\n",
       "      <td>950.369306</td>\n",
       "      <td>3.333333</td>\n",
       "      <td>64.000000</td>\n",
       "    </tr>\n",
       "    <tr>\n",
       "      <th>other</th>\n",
       "      <td>2002</td>\n",
       "      <td>0.000000</td>\n",
       "      <td>NaN</td>\n",
       "      <td>NaN</td>\n",
       "    </tr>\n",
       "    <tr>\n",
       "      <th rowspan=\"2\" valign=\"top\">8780</th>\n",
       "      <th>self</th>\n",
       "      <td>2001</td>\n",
       "      <td>880.138770</td>\n",
       "      <td>2.666667</td>\n",
       "      <td>68.000000</td>\n",
       "    </tr>\n",
       "    <tr>\n",
       "      <th>other</th>\n",
       "      <td>2002</td>\n",
       "      <td>0.000000</td>\n",
       "      <td>NaN</td>\n",
       "      <td>NaN</td>\n",
       "    </tr>\n",
       "    <tr>\n",
       "      <th rowspan=\"2\" valign=\"top\">8781</th>\n",
       "      <th>self</th>\n",
       "      <td>2001</td>\n",
       "      <td>792.754026</td>\n",
       "      <td>2.000000</td>\n",
       "      <td>72.000000</td>\n",
       "    </tr>\n",
       "    <tr>\n",
       "      <th>other</th>\n",
       "      <td>2002</td>\n",
       "      <td>0.000000</td>\n",
       "      <td>NaN</td>\n",
       "      <td>NaN</td>\n",
       "    </tr>\n",
       "    <tr>\n",
       "      <th rowspan=\"2\" valign=\"top\">8782</th>\n",
       "      <th>self</th>\n",
       "      <td>2001</td>\n",
       "      <td>740.446668</td>\n",
       "      <td>1.333333</td>\n",
       "      <td>76.000000</td>\n",
       "    </tr>\n",
       "    <tr>\n",
       "      <th>other</th>\n",
       "      <td>2002</td>\n",
       "      <td>0.000000</td>\n",
       "      <td>NaN</td>\n",
       "      <td>NaN</td>\n",
       "    </tr>\n",
       "    <tr>\n",
       "      <th rowspan=\"2\" valign=\"top\">8783</th>\n",
       "      <th>self</th>\n",
       "      <td>2001</td>\n",
       "      <td>706.176769</td>\n",
       "      <td>0.666667</td>\n",
       "      <td>80.000000</td>\n",
       "    </tr>\n",
       "    <tr>\n",
       "      <th>other</th>\n",
       "      <td>2002</td>\n",
       "      <td>0.000000</td>\n",
       "      <td>NaN</td>\n",
       "      <td>NaN</td>\n",
       "    </tr>\n",
       "  </tbody>\n",
       "</table>\n",
       "</div>"
      ],
      "text/plain": [
       "            year  energy_consumpt  full_temp  full_humid\n",
       "8772 self   2001       843.230570   8.800000   35.000000\n",
       "     other  2002         0.000000        NaN         NaN\n",
       "8773 self   2001       862.376112   9.866667   33.666667\n",
       "     other  2002         0.000000        NaN         NaN\n",
       "8774 self   2001       885.214790  10.933333   32.333333\n",
       "     other  2002         0.000000        NaN         NaN\n",
       "8775 self   2001       904.754785  12.000000   31.000000\n",
       "     other  2002         0.000000        NaN         NaN\n",
       "8776 self   2001       960.265378   9.333333   40.666667\n",
       "     other  2002         0.000000        NaN         NaN\n",
       "8777 self   2001      1008.915444   6.666667   50.333333\n",
       "     other  2002         0.000000        NaN         NaN\n",
       "8778 self   2001       994.170651   4.000000   60.000000\n",
       "     other  2002         0.000000        NaN         NaN\n",
       "8779 self   2001       950.369306   3.333333   64.000000\n",
       "     other  2002         0.000000        NaN         NaN\n",
       "8780 self   2001       880.138770   2.666667   68.000000\n",
       "     other  2002         0.000000        NaN         NaN\n",
       "8781 self   2001       792.754026   2.000000   72.000000\n",
       "     other  2002         0.000000        NaN         NaN\n",
       "8782 self   2001       740.446668   1.333333   76.000000\n",
       "     other  2002         0.000000        NaN         NaN\n",
       "8783 self   2001       706.176769   0.666667   80.000000\n",
       "     other  2002         0.000000        NaN         NaN"
      ]
     },
     "execution_count": 74,
     "metadata": {},
     "output_type": "execute_result"
    }
   ],
   "source": [
    "df_2001.compare(df_2002, align_axis=0).tail(24)"
   ]
  },
  {
   "cell_type": "markdown",
   "metadata": {},
   "source": [
    "4. Clean data2002 dataframe\n",
    "\n",
    "last 24 items of 2002 data are blank measures for humid and temp. zeros in **energy_consumpt**"
   ]
  },
  {
   "cell_type": "code",
   "execution_count": 75,
   "metadata": {},
   "outputs": [
    {
     "data": {
      "text/html": [
       "<div>\n",
       "<style scoped>\n",
       "    .dataframe tbody tr th:only-of-type {\n",
       "        vertical-align: middle;\n",
       "    }\n",
       "\n",
       "    .dataframe tbody tr th {\n",
       "        vertical-align: top;\n",
       "    }\n",
       "\n",
       "    .dataframe thead th {\n",
       "        text-align: right;\n",
       "    }\n",
       "</style>\n",
       "<table border=\"1\" class=\"dataframe\">\n",
       "  <thead>\n",
       "    <tr style=\"text-align: right;\">\n",
       "      <th></th>\n",
       "      <th>year</th>\n",
       "      <th>Hour</th>\n",
       "      <th>energy_consumpt</th>\n",
       "      <th>full_temp</th>\n",
       "      <th>full_humid</th>\n",
       "    </tr>\n",
       "  </thead>\n",
       "  <tbody>\n",
       "    <tr>\n",
       "      <th>8760</th>\n",
       "      <td>2002</td>\n",
       "      <td>8761</td>\n",
       "      <td>0.0</td>\n",
       "      <td>NaN</td>\n",
       "      <td>NaN</td>\n",
       "    </tr>\n",
       "    <tr>\n",
       "      <th>8761</th>\n",
       "      <td>2002</td>\n",
       "      <td>8762</td>\n",
       "      <td>0.0</td>\n",
       "      <td>NaN</td>\n",
       "      <td>NaN</td>\n",
       "    </tr>\n",
       "    <tr>\n",
       "      <th>8762</th>\n",
       "      <td>2002</td>\n",
       "      <td>8763</td>\n",
       "      <td>0.0</td>\n",
       "      <td>NaN</td>\n",
       "      <td>NaN</td>\n",
       "    </tr>\n",
       "    <tr>\n",
       "      <th>8763</th>\n",
       "      <td>2002</td>\n",
       "      <td>8764</td>\n",
       "      <td>0.0</td>\n",
       "      <td>NaN</td>\n",
       "      <td>NaN</td>\n",
       "    </tr>\n",
       "    <tr>\n",
       "      <th>8764</th>\n",
       "      <td>2002</td>\n",
       "      <td>8765</td>\n",
       "      <td>0.0</td>\n",
       "      <td>NaN</td>\n",
       "      <td>NaN</td>\n",
       "    </tr>\n",
       "    <tr>\n",
       "      <th>8765</th>\n",
       "      <td>2002</td>\n",
       "      <td>8766</td>\n",
       "      <td>0.0</td>\n",
       "      <td>NaN</td>\n",
       "      <td>NaN</td>\n",
       "    </tr>\n",
       "    <tr>\n",
       "      <th>8766</th>\n",
       "      <td>2002</td>\n",
       "      <td>8767</td>\n",
       "      <td>0.0</td>\n",
       "      <td>NaN</td>\n",
       "      <td>NaN</td>\n",
       "    </tr>\n",
       "    <tr>\n",
       "      <th>8767</th>\n",
       "      <td>2002</td>\n",
       "      <td>8768</td>\n",
       "      <td>0.0</td>\n",
       "      <td>NaN</td>\n",
       "      <td>NaN</td>\n",
       "    </tr>\n",
       "    <tr>\n",
       "      <th>8768</th>\n",
       "      <td>2002</td>\n",
       "      <td>8769</td>\n",
       "      <td>0.0</td>\n",
       "      <td>NaN</td>\n",
       "      <td>NaN</td>\n",
       "    </tr>\n",
       "    <tr>\n",
       "      <th>8769</th>\n",
       "      <td>2002</td>\n",
       "      <td>8770</td>\n",
       "      <td>0.0</td>\n",
       "      <td>NaN</td>\n",
       "      <td>NaN</td>\n",
       "    </tr>\n",
       "    <tr>\n",
       "      <th>8770</th>\n",
       "      <td>2002</td>\n",
       "      <td>8771</td>\n",
       "      <td>0.0</td>\n",
       "      <td>NaN</td>\n",
       "      <td>NaN</td>\n",
       "    </tr>\n",
       "    <tr>\n",
       "      <th>8771</th>\n",
       "      <td>2002</td>\n",
       "      <td>8772</td>\n",
       "      <td>0.0</td>\n",
       "      <td>NaN</td>\n",
       "      <td>NaN</td>\n",
       "    </tr>\n",
       "    <tr>\n",
       "      <th>8772</th>\n",
       "      <td>2002</td>\n",
       "      <td>8773</td>\n",
       "      <td>0.0</td>\n",
       "      <td>NaN</td>\n",
       "      <td>NaN</td>\n",
       "    </tr>\n",
       "    <tr>\n",
       "      <th>8773</th>\n",
       "      <td>2002</td>\n",
       "      <td>8774</td>\n",
       "      <td>0.0</td>\n",
       "      <td>NaN</td>\n",
       "      <td>NaN</td>\n",
       "    </tr>\n",
       "    <tr>\n",
       "      <th>8774</th>\n",
       "      <td>2002</td>\n",
       "      <td>8775</td>\n",
       "      <td>0.0</td>\n",
       "      <td>NaN</td>\n",
       "      <td>NaN</td>\n",
       "    </tr>\n",
       "    <tr>\n",
       "      <th>8775</th>\n",
       "      <td>2002</td>\n",
       "      <td>8776</td>\n",
       "      <td>0.0</td>\n",
       "      <td>NaN</td>\n",
       "      <td>NaN</td>\n",
       "    </tr>\n",
       "    <tr>\n",
       "      <th>8776</th>\n",
       "      <td>2002</td>\n",
       "      <td>8777</td>\n",
       "      <td>0.0</td>\n",
       "      <td>NaN</td>\n",
       "      <td>NaN</td>\n",
       "    </tr>\n",
       "    <tr>\n",
       "      <th>8777</th>\n",
       "      <td>2002</td>\n",
       "      <td>8778</td>\n",
       "      <td>0.0</td>\n",
       "      <td>NaN</td>\n",
       "      <td>NaN</td>\n",
       "    </tr>\n",
       "    <tr>\n",
       "      <th>8778</th>\n",
       "      <td>2002</td>\n",
       "      <td>8779</td>\n",
       "      <td>0.0</td>\n",
       "      <td>NaN</td>\n",
       "      <td>NaN</td>\n",
       "    </tr>\n",
       "    <tr>\n",
       "      <th>8779</th>\n",
       "      <td>2002</td>\n",
       "      <td>8780</td>\n",
       "      <td>0.0</td>\n",
       "      <td>NaN</td>\n",
       "      <td>NaN</td>\n",
       "    </tr>\n",
       "    <tr>\n",
       "      <th>8780</th>\n",
       "      <td>2002</td>\n",
       "      <td>8781</td>\n",
       "      <td>0.0</td>\n",
       "      <td>NaN</td>\n",
       "      <td>NaN</td>\n",
       "    </tr>\n",
       "    <tr>\n",
       "      <th>8781</th>\n",
       "      <td>2002</td>\n",
       "      <td>8782</td>\n",
       "      <td>0.0</td>\n",
       "      <td>NaN</td>\n",
       "      <td>NaN</td>\n",
       "    </tr>\n",
       "    <tr>\n",
       "      <th>8782</th>\n",
       "      <td>2002</td>\n",
       "      <td>8783</td>\n",
       "      <td>0.0</td>\n",
       "      <td>NaN</td>\n",
       "      <td>NaN</td>\n",
       "    </tr>\n",
       "    <tr>\n",
       "      <th>8783</th>\n",
       "      <td>2002</td>\n",
       "      <td>8784</td>\n",
       "      <td>0.0</td>\n",
       "      <td>NaN</td>\n",
       "      <td>NaN</td>\n",
       "    </tr>\n",
       "  </tbody>\n",
       "</table>\n",
       "</div>"
      ],
      "text/plain": [
       "      year  Hour  energy_consumpt  full_temp  full_humid\n",
       "8760  2002  8761              0.0        NaN         NaN\n",
       "8761  2002  8762              0.0        NaN         NaN\n",
       "8762  2002  8763              0.0        NaN         NaN\n",
       "8763  2002  8764              0.0        NaN         NaN\n",
       "8764  2002  8765              0.0        NaN         NaN\n",
       "8765  2002  8766              0.0        NaN         NaN\n",
       "8766  2002  8767              0.0        NaN         NaN\n",
       "8767  2002  8768              0.0        NaN         NaN\n",
       "8768  2002  8769              0.0        NaN         NaN\n",
       "8769  2002  8770              0.0        NaN         NaN\n",
       "8770  2002  8771              0.0        NaN         NaN\n",
       "8771  2002  8772              0.0        NaN         NaN\n",
       "8772  2002  8773              0.0        NaN         NaN\n",
       "8773  2002  8774              0.0        NaN         NaN\n",
       "8774  2002  8775              0.0        NaN         NaN\n",
       "8775  2002  8776              0.0        NaN         NaN\n",
       "8776  2002  8777              0.0        NaN         NaN\n",
       "8777  2002  8778              0.0        NaN         NaN\n",
       "8778  2002  8779              0.0        NaN         NaN\n",
       "8779  2002  8780              0.0        NaN         NaN\n",
       "8780  2002  8781              0.0        NaN         NaN\n",
       "8781  2002  8782              0.0        NaN         NaN\n",
       "8782  2002  8783              0.0        NaN         NaN\n",
       "8783  2002  8784              0.0        NaN         NaN"
      ]
     },
     "execution_count": 75,
     "metadata": {},
     "output_type": "execute_result"
    }
   ],
   "source": [
    "df_2002.tail(24)"
   ]
  },
  {
   "cell_type": "markdown",
   "metadata": {},
   "source": [
    "If we assume that the variable **energy_consumpt** is dependent on the variables **full_temp** and **full_humid** then we will omit these last 24 values"
   ]
  },
  {
   "cell_type": "code",
   "execution_count": 76,
   "metadata": {},
   "outputs": [],
   "source": [
    "df_2002 = df_2002.iloc[:-24]"
   ]
  },
  {
   "cell_type": "markdown",
   "metadata": {},
   "source": [
    "now the number of values in **data2002** is exact to the total hours of a year"
   ]
  },
  {
   "cell_type": "code",
   "execution_count": 77,
   "metadata": {},
   "outputs": [
    {
     "data": {
      "text/plain": [
       "8760"
      ]
     },
     "execution_count": 77,
     "metadata": {},
     "output_type": "execute_result"
    }
   ],
   "source": [
    "df_2002['Hour'].count() "
   ]
  },
  {
   "cell_type": "markdown",
   "metadata": {},
   "source": [
    "Last 24 values of 2001 it semms valid measures so lets keep them."
   ]
  },
  {
   "cell_type": "markdown",
   "metadata": {},
   "source": [
    "6. Merging dataframes"
   ]
  },
  {
   "cell_type": "code",
   "execution_count": 78,
   "metadata": {},
   "outputs": [
    {
     "data": {
      "text/html": [
       "<div>\n",
       "<style scoped>\n",
       "    .dataframe tbody tr th:only-of-type {\n",
       "        vertical-align: middle;\n",
       "    }\n",
       "\n",
       "    .dataframe tbody tr th {\n",
       "        vertical-align: top;\n",
       "    }\n",
       "\n",
       "    .dataframe thead th {\n",
       "        text-align: right;\n",
       "    }\n",
       "</style>\n",
       "<table border=\"1\" class=\"dataframe\">\n",
       "  <thead>\n",
       "    <tr style=\"text-align: right;\">\n",
       "      <th></th>\n",
       "      <th>year</th>\n",
       "      <th>Hour</th>\n",
       "      <th>energy_consumpt</th>\n",
       "      <th>full_temp</th>\n",
       "      <th>full_humid</th>\n",
       "    </tr>\n",
       "  </thead>\n",
       "  <tbody>\n",
       "    <tr>\n",
       "      <th>0</th>\n",
       "      <td>2001</td>\n",
       "      <td>1</td>\n",
       "      <td>631.623161</td>\n",
       "      <td>-0.400000</td>\n",
       "      <td>64.000000</td>\n",
       "    </tr>\n",
       "    <tr>\n",
       "      <th>1</th>\n",
       "      <td>2001</td>\n",
       "      <td>2</td>\n",
       "      <td>534.397104</td>\n",
       "      <td>-0.733333</td>\n",
       "      <td>65.333333</td>\n",
       "    </tr>\n",
       "    <tr>\n",
       "      <th>2</th>\n",
       "      <td>2001</td>\n",
       "      <td>3</td>\n",
       "      <td>453.538784</td>\n",
       "      <td>-1.066667</td>\n",
       "      <td>66.666667</td>\n",
       "    </tr>\n",
       "    <tr>\n",
       "      <th>3</th>\n",
       "      <td>2001</td>\n",
       "      <td>4</td>\n",
       "      <td>400.699718</td>\n",
       "      <td>-1.400000</td>\n",
       "      <td>68.000000</td>\n",
       "    </tr>\n",
       "    <tr>\n",
       "      <th>4</th>\n",
       "      <td>2001</td>\n",
       "      <td>5</td>\n",
       "      <td>378.171092</td>\n",
       "      <td>-1.666667</td>\n",
       "      <td>60.333333</td>\n",
       "    </tr>\n",
       "    <tr>\n",
       "      <th>...</th>\n",
       "      <td>...</td>\n",
       "      <td>...</td>\n",
       "      <td>...</td>\n",
       "      <td>...</td>\n",
       "      <td>...</td>\n",
       "    </tr>\n",
       "    <tr>\n",
       "      <th>8755</th>\n",
       "      <td>2002</td>\n",
       "      <td>8756</td>\n",
       "      <td>1295.271939</td>\n",
       "      <td>5.933333</td>\n",
       "      <td>62.000000</td>\n",
       "    </tr>\n",
       "    <tr>\n",
       "      <th>8756</th>\n",
       "      <td>2002</td>\n",
       "      <td>8757</td>\n",
       "      <td>1181.771718</td>\n",
       "      <td>5.066667</td>\n",
       "      <td>67.000000</td>\n",
       "    </tr>\n",
       "    <tr>\n",
       "      <th>8757</th>\n",
       "      <td>2002</td>\n",
       "      <td>8758</td>\n",
       "      <td>1051.278230</td>\n",
       "      <td>4.200000</td>\n",
       "      <td>72.000000</td>\n",
       "    </tr>\n",
       "    <tr>\n",
       "      <th>8758</th>\n",
       "      <td>2002</td>\n",
       "      <td>8759</td>\n",
       "      <td>983.742983</td>\n",
       "      <td>3.333333</td>\n",
       "      <td>77.000000</td>\n",
       "    </tr>\n",
       "    <tr>\n",
       "      <th>8759</th>\n",
       "      <td>2002</td>\n",
       "      <td>8760</td>\n",
       "      <td>927.698502</td>\n",
       "      <td>2.466667</td>\n",
       "      <td>82.000000</td>\n",
       "    </tr>\n",
       "  </tbody>\n",
       "</table>\n",
       "<p>17544 rows × 5 columns</p>\n",
       "</div>"
      ],
      "text/plain": [
       "      year  Hour  energy_consumpt  full_temp  full_humid\n",
       "0     2001     1       631.623161  -0.400000   64.000000\n",
       "1     2001     2       534.397104  -0.733333   65.333333\n",
       "2     2001     3       453.538784  -1.066667   66.666667\n",
       "3     2001     4       400.699718  -1.400000   68.000000\n",
       "4     2001     5       378.171092  -1.666667   60.333333\n",
       "...    ...   ...              ...        ...         ...\n",
       "8755  2002  8756      1295.271939   5.933333   62.000000\n",
       "8756  2002  8757      1181.771718   5.066667   67.000000\n",
       "8757  2002  8758      1051.278230   4.200000   72.000000\n",
       "8758  2002  8759       983.742983   3.333333   77.000000\n",
       "8759  2002  8760       927.698502   2.466667   82.000000\n",
       "\n",
       "[17544 rows x 5 columns]"
      ]
     },
     "execution_count": 78,
     "metadata": {},
     "output_type": "execute_result"
    }
   ],
   "source": [
    "df2=pd.concat([df_2001, df_2002], axis=0)\n",
    "df2"
   ]
  },
  {
   "cell_type": "markdown",
   "metadata": {},
   "source": [
    "7. Check for inner NA values"
   ]
  },
  {
   "cell_type": "code",
   "execution_count": 79,
   "metadata": {},
   "outputs": [
    {
     "data": {
      "text/plain": [
       "year                0\n",
       "Hour                0\n",
       "energy_consumpt    34\n",
       "full_temp           0\n",
       "full_humid          0\n",
       "dtype: int64"
      ]
     },
     "execution_count": 79,
     "metadata": {},
     "output_type": "execute_result"
    }
   ],
   "source": [
    "df2.isna().sum()"
   ]
  },
  {
   "cell_type": "markdown",
   "metadata": {},
   "source": [
    "\n",
    "6. Visual analisys   \n",
    "the values for 5 first days show us a pattern "
   ]
  },
  {
   "cell_type": "code",
   "execution_count": 80,
   "metadata": {},
   "outputs": [
    {
     "data": {
      "text/plain": [
       "<AxesSubplot:xlabel='Hour', ylabel='energy_consumpt'>"
      ]
     },
     "execution_count": 80,
     "metadata": {},
     "output_type": "execute_result"
    },
    {
     "data": {
      "image/png": "[encoded data removed]",
      "text/plain": [
       "<Figure size 432x288 with 1 Axes>"
      ]
     },
     "metadata": {
      "needs_background": "light"
     },
     "output_type": "display_data"
    }
   ],
   "source": [
    "df2.query('Hour<120').plot.scatter(x='Hour', y='energy_consumpt')"
   ]
  },
  {
   "cell_type": "markdown",
   "metadata": {},
   "source": [
    "Lets zoom near a missing value"
   ]
  },
  {
   "cell_type": "code",
   "execution_count": 81,
   "metadata": {},
   "outputs": [
    {
     "data": {
      "text/plain": [
       "<AxesSubplot:xlabel='Hour', ylabel='energy_consumpt'>"
      ]
     },
     "execution_count": 81,
     "metadata": {},
     "output_type": "execute_result"
    },
    {
     "data": {
      "image/png": "[encoded data removed]",
      "text/plain": [
       "<Figure size 432x288 with 1 Axes>"
      ]
     },
     "metadata": {
      "needs_background": "light"
     },
     "output_type": "display_data"
    }
   ],
   "source": [
    "df2.query('80<Hour<92').plot.scatter(x='Hour', y='energy_consumpt')"
   ]
  },
  {
   "cell_type": "markdown",
   "metadata": {},
   "source": [
    "each point in this pattern would must be bettwen its left neighbor and right neighbor  \n",
    "we can use linear interpolation to fill these missing values (like Hour=88)"
   ]
  },
  {
   "cell_type": "code",
   "execution_count": 82,
   "metadata": {},
   "outputs": [
    {
     "data": {
      "text/plain": [
       "year               0\n",
       "Hour               0\n",
       "energy_consumpt    0\n",
       "full_temp          0\n",
       "full_humid         0\n",
       "dtype: int64"
      ]
     },
     "execution_count": 82,
     "metadata": {},
     "output_type": "execute_result"
    }
   ],
   "source": [
    "df2['energy_consumpt'] = df2['energy_consumpt'].interpolate()\n",
    "df2.isna().sum()"
   ]
  },
  {
   "cell_type": "markdown",
   "metadata": {},
   "source": [
    "Now the missing values are filled with relevant data"
   ]
  },
  {
   "cell_type": "markdown",
   "metadata": {},
   "source": [
    "### Handling Outliers\n",
    "lets see a **energy_consumpt** plot"
   ]
  },
  {
   "cell_type": "code",
   "execution_count": 83,
   "metadata": {},
   "outputs": [
    {
     "data": {
      "text/plain": [
       "<AxesSubplot:xlabel='Hour', ylabel='energy_consumpt'>"
      ]
     },
     "execution_count": 83,
     "metadata": {},
     "output_type": "execute_result"
    },
    {
     "data": {
      "image/png": "[encoded data removed]",
      "text/plain": [
       "<Figure size 432x288 with 1 Axes>"
      ]
     },
     "metadata": {
      "needs_background": "light"
     },
     "output_type": "display_data"
    }
   ],
   "source": [
    "df2.plot.scatter(x='Hour', y='energy_consumpt')"
   ]
  },
  {
   "cell_type": "markdown",
   "metadata": {},
   "source": [
    "It seems there is some outliers. we'll analize data with boxplot"
   ]
  },
  {
   "cell_type": "code",
   "execution_count": 84,
   "metadata": {},
   "outputs": [
    {
     "data": {
      "text/plain": [
       "<function matplotlib.pyplot.show(close=None, block=None)>"
      ]
     },
     "execution_count": 84,
     "metadata": {},
     "output_type": "execute_result"
    },
    {
     "data": {
      "image/png": "[encoded data removed]",
      "text/plain": [
       "<Figure size 432x288 with 1 Axes>"
      ]
     },
     "metadata": {
      "needs_background": "light"
     },
     "output_type": "display_data"
    }
   ],
   "source": [
    "plt.boxplot(df2['energy_consumpt'], vert=False)\n",
    "plt.show"
   ]
  },
  {
   "cell_type": "code",
   "execution_count": 85,
   "metadata": {},
   "outputs": [
    {
     "data": {
      "text/html": [
       "<div>\n",
       "<style scoped>\n",
       "    .dataframe tbody tr th:only-of-type {\n",
       "        vertical-align: middle;\n",
       "    }\n",
       "\n",
       "    .dataframe tbody tr th {\n",
       "        vertical-align: top;\n",
       "    }\n",
       "\n",
       "    .dataframe thead th {\n",
       "        text-align: right;\n",
       "    }\n",
       "</style>\n",
       "<table border=\"1\" class=\"dataframe\">\n",
       "  <thead>\n",
       "    <tr style=\"text-align: right;\">\n",
       "      <th></th>\n",
       "      <th>Hour</th>\n",
       "      <th>energy_consumpt</th>\n",
       "      <th>full_temp</th>\n",
       "      <th>full_humid</th>\n",
       "    </tr>\n",
       "  </thead>\n",
       "  <tbody>\n",
       "    <tr>\n",
       "      <th>count</th>\n",
       "      <td>17544.000000</td>\n",
       "      <td>17544.000000</td>\n",
       "      <td>17544.000000</td>\n",
       "      <td>17544.000000</td>\n",
       "    </tr>\n",
       "    <tr>\n",
       "      <th>mean</th>\n",
       "      <td>4386.508208</td>\n",
       "      <td>627.405695</td>\n",
       "      <td>17.899761</td>\n",
       "      <td>61.839318</td>\n",
       "    </tr>\n",
       "    <tr>\n",
       "      <th>std</th>\n",
       "      <td>2532.344653</td>\n",
       "      <td>248.930651</td>\n",
       "      <td>7.880001</td>\n",
       "      <td>18.972915</td>\n",
       "    </tr>\n",
       "    <tr>\n",
       "      <th>min</th>\n",
       "      <td>1.000000</td>\n",
       "      <td>-1332.918388</td>\n",
       "      <td>-3.200000</td>\n",
       "      <td>3.000000</td>\n",
       "    </tr>\n",
       "    <tr>\n",
       "      <th>25%</th>\n",
       "      <td>2193.750000</td>\n",
       "      <td>472.217562</td>\n",
       "      <td>12.000000</td>\n",
       "      <td>47.000000</td>\n",
       "    </tr>\n",
       "    <tr>\n",
       "      <th>50%</th>\n",
       "      <td>4386.500000</td>\n",
       "      <td>574.457488</td>\n",
       "      <td>18.000000</td>\n",
       "      <td>64.666667</td>\n",
       "    </tr>\n",
       "    <tr>\n",
       "      <th>75%</th>\n",
       "      <td>6579.250000</td>\n",
       "      <td>793.752332</td>\n",
       "      <td>23.933333</td>\n",
       "      <td>77.333333</td>\n",
       "    </tr>\n",
       "    <tr>\n",
       "      <th>max</th>\n",
       "      <td>8784.000000</td>\n",
       "      <td>9896.924643</td>\n",
       "      <td>41.000000</td>\n",
       "      <td>100.000000</td>\n",
       "    </tr>\n",
       "  </tbody>\n",
       "</table>\n",
       "</div>"
      ],
      "text/plain": [
       "               Hour  energy_consumpt     full_temp    full_humid\n",
       "count  17544.000000     17544.000000  17544.000000  17544.000000\n",
       "mean    4386.508208       627.405695     17.899761     61.839318\n",
       "std     2532.344653       248.930651      7.880001     18.972915\n",
       "min        1.000000     -1332.918388     -3.200000      3.000000\n",
       "25%     2193.750000       472.217562     12.000000     47.000000\n",
       "50%     4386.500000       574.457488     18.000000     64.666667\n",
       "75%     6579.250000       793.752332     23.933333     77.333333\n",
       "max     8784.000000      9896.924643     41.000000    100.000000"
      ]
     },
     "execution_count": 85,
     "metadata": {},
     "output_type": "execute_result"
    }
   ],
   "source": [
    "df2.describe()"
   ]
  },
  {
   "cell_type": "markdown",
   "metadata": {},
   "source": [
    "All values greater than 3rd quarter and less than 1st quarter are outliers but there is some values too close of upper whisker   \n",
    "\n",
    "Setting whiskers..."
   ]
  },
  {
   "cell_type": "code",
   "execution_count": 86,
   "metadata": {},
   "outputs": [
    {
     "name": "stdout",
     "output_type": "stream",
     "text": [
      "Lower whisker:86.37583859433613 \n",
      "Upper whisker: 1179.594055794554\n"
     ]
    }
   ],
   "source": [
    "#1rst Quartile\n",
    "Q1 = df2['energy_consumpt'].quantile(0.25)\n",
    "#3rd quantile\n",
    "Q3 = df2['energy_consumpt'].quantile(0.75)\n",
    "#InterQuartile Range\n",
    "IQR = Q3 - Q1\n",
    "#Lower whisker\n",
    "LW = Q1 - IQR*1.2\n",
    "#Upper whisker - 2.2 factor chosen to exclude values > 1009.69 on energy_consumption\n",
    "UW = Q3 + IQR*1.2\n",
    "print(f\"Lower whisker:{LW} \\nUpper whisker: {UW}\")"
   ]
  },
  {
   "cell_type": "code",
   "execution_count": 87,
   "metadata": {},
   "outputs": [
    {
     "name": "stdout",
     "output_type": "stream",
     "text": [
      "There are 248 outliers detected\n"
     ]
    }
   ],
   "source": [
    "outliers_location = (df2['energy_consumpt']<LW) | (df2['energy_consumpt']>UW)\n",
    "print(f\"There are {outliers_location.sum()} outliers detected\")"
   ]
  },
  {
   "cell_type": "code",
   "execution_count": 88,
   "metadata": {},
   "outputs": [
    {
     "name": "stdout",
     "output_type": "stream",
     "text": [
      "Outliers Description:\n"
     ]
    },
    {
     "data": {
      "text/html": [
       "<div>\n",
       "<style scoped>\n",
       "    .dataframe tbody tr th:only-of-type {\n",
       "        vertical-align: middle;\n",
       "    }\n",
       "\n",
       "    .dataframe tbody tr th {\n",
       "        vertical-align: top;\n",
       "    }\n",
       "\n",
       "    .dataframe thead th {\n",
       "        text-align: right;\n",
       "    }\n",
       "</style>\n",
       "<table border=\"1\" class=\"dataframe\">\n",
       "  <thead>\n",
       "    <tr style=\"text-align: right;\">\n",
       "      <th></th>\n",
       "      <th>year</th>\n",
       "      <th>Hour</th>\n",
       "      <th>energy_consumpt</th>\n",
       "      <th>full_temp</th>\n",
       "      <th>full_humid</th>\n",
       "    </tr>\n",
       "  </thead>\n",
       "  <tbody>\n",
       "    <tr>\n",
       "      <th>113</th>\n",
       "      <td>2002</td>\n",
       "      <td>114</td>\n",
       "      <td>-1332.918388</td>\n",
       "      <td>13.600000</td>\n",
       "      <td>49.666667</td>\n",
       "    </tr>\n",
       "    <tr>\n",
       "      <th>638</th>\n",
       "      <td>2001</td>\n",
       "      <td>639</td>\n",
       "      <td>-614.175490</td>\n",
       "      <td>16.933333</td>\n",
       "      <td>43.000000</td>\n",
       "    </tr>\n",
       "    <tr>\n",
       "      <th>4419</th>\n",
       "      <td>2002</td>\n",
       "      <td>4420</td>\n",
       "      <td>0.000000</td>\n",
       "      <td>21.400000</td>\n",
       "      <td>74.000000</td>\n",
       "    </tr>\n",
       "    <tr>\n",
       "      <th>172</th>\n",
       "      <td>2002</td>\n",
       "      <td>173</td>\n",
       "      <td>0.000000</td>\n",
       "      <td>7.666667</td>\n",
       "      <td>86.666667</td>\n",
       "    </tr>\n",
       "    <tr>\n",
       "      <th>280</th>\n",
       "      <td>2002</td>\n",
       "      <td>281</td>\n",
       "      <td>0.000000</td>\n",
       "      <td>13.400000</td>\n",
       "      <td>41.333333</td>\n",
       "    </tr>\n",
       "    <tr>\n",
       "      <th>...</th>\n",
       "      <td>...</td>\n",
       "      <td>...</td>\n",
       "      <td>...</td>\n",
       "      <td>...</td>\n",
       "      <td>...</td>\n",
       "    </tr>\n",
       "    <tr>\n",
       "      <th>412</th>\n",
       "      <td>2002</td>\n",
       "      <td>413</td>\n",
       "      <td>5120.631318</td>\n",
       "      <td>6.466667</td>\n",
       "      <td>59.333333</td>\n",
       "    </tr>\n",
       "    <tr>\n",
       "      <th>576</th>\n",
       "      <td>2002</td>\n",
       "      <td>577</td>\n",
       "      <td>5682.085168</td>\n",
       "      <td>3.000000</td>\n",
       "      <td>60.000000</td>\n",
       "    </tr>\n",
       "    <tr>\n",
       "      <th>502</th>\n",
       "      <td>2001</td>\n",
       "      <td>503</td>\n",
       "      <td>6364.455548</td>\n",
       "      <td>3.633333</td>\n",
       "      <td>88.000000</td>\n",
       "    </tr>\n",
       "    <tr>\n",
       "      <th>849</th>\n",
       "      <td>2001</td>\n",
       "      <td>850</td>\n",
       "      <td>6560.013773</td>\n",
       "      <td>8.000000</td>\n",
       "      <td>30.000000</td>\n",
       "    </tr>\n",
       "    <tr>\n",
       "      <th>905</th>\n",
       "      <td>2002</td>\n",
       "      <td>906</td>\n",
       "      <td>9896.924643</td>\n",
       "      <td>11.800000</td>\n",
       "      <td>81.666667</td>\n",
       "    </tr>\n",
       "  </tbody>\n",
       "</table>\n",
       "<p>248 rows × 5 columns</p>\n",
       "</div>"
      ],
      "text/plain": [
       "      year  Hour  energy_consumpt  full_temp  full_humid\n",
       "113   2002   114     -1332.918388  13.600000   49.666667\n",
       "638   2001   639      -614.175490  16.933333   43.000000\n",
       "4419  2002  4420         0.000000  21.400000   74.000000\n",
       "172   2002   173         0.000000   7.666667   86.666667\n",
       "280   2002   281         0.000000  13.400000   41.333333\n",
       "...    ...   ...              ...        ...         ...\n",
       "412   2002   413      5120.631318   6.466667   59.333333\n",
       "576   2002   577      5682.085168   3.000000   60.000000\n",
       "502   2001   503      6364.455548   3.633333   88.000000\n",
       "849   2001   850      6560.013773   8.000000   30.000000\n",
       "905   2002   906      9896.924643  11.800000   81.666667\n",
       "\n",
       "[248 rows x 5 columns]"
      ]
     },
     "execution_count": 88,
     "metadata": {},
     "output_type": "execute_result"
    }
   ],
   "source": [
    "outliers = df2[outliers_location].sort_values('energy_consumpt')\n",
    "print(\"Outliers Description:\")\n",
    "outliers"
   ]
  },
  {
   "cell_type": "code",
   "execution_count": 89,
   "metadata": {},
   "outputs": [
    {
     "data": {
      "text/plain": [
       "17296"
      ]
     },
     "execution_count": 89,
     "metadata": {},
     "output_type": "execute_result"
    }
   ],
   "source": [
    "# droping outliers\n",
    "df2 = df2[~outliers_location]\n",
    "df2['Hour'].count()"
   ]
  },
  {
   "cell_type": "code",
   "execution_count": 91,
   "metadata": {},
   "outputs": [
    {
     "data": {
      "text/plain": [
       "<AxesSubplot:xlabel='Hour'>"
      ]
     },
     "execution_count": 91,
     "metadata": {},
     "output_type": "execute_result"
    },
    {
     "data": {
      "image/png": "[encoded data removed]",
      "text/plain": [
       "<Figure size 432x288 with 1 Axes>"
      ]
     },
     "metadata": {
      "needs_background": "light"
     },
     "output_type": "display_data"
    }
   ],
   "source": [
    "df2.plot('Hour')"
   ]
  },
  {
   "cell_type": "markdown",
   "metadata": {},
   "source": [
    "Visual analisis does not show us outliers for **full_humid** and **full_temp** variables"
   ]
  },
  {
   "cell_type": "markdown",
   "metadata": {},
   "source": [
    "## Grouping"
   ]
  },
  {
   "cell_type": "markdown",
   "metadata": {},
   "source": [
    "### Grouping by day"
   ]
  },
  {
   "cell_type": "code",
   "execution_count": 95,
   "metadata": {},
   "outputs": [
    {
     "data": {
      "text/html": [
       "<div>\n",
       "<style scoped>\n",
       "    .dataframe tbody tr th:only-of-type {\n",
       "        vertical-align: middle;\n",
       "    }\n",
       "\n",
       "    .dataframe tbody tr th {\n",
       "        vertical-align: top;\n",
       "    }\n",
       "\n",
       "    .dataframe thead th {\n",
       "        text-align: right;\n",
       "    }\n",
       "</style>\n",
       "<table border=\"1\" class=\"dataframe\">\n",
       "  <thead>\n",
       "    <tr style=\"text-align: right;\">\n",
       "      <th></th>\n",
       "      <th>year</th>\n",
       "      <th>Hour</th>\n",
       "      <th>energy_consumpt</th>\n",
       "      <th>full_temp</th>\n",
       "      <th>full_humid</th>\n",
       "      <th>day_group</th>\n",
       "    </tr>\n",
       "  </thead>\n",
       "  <tbody>\n",
       "    <tr>\n",
       "      <th>0</th>\n",
       "      <td>2001</td>\n",
       "      <td>1</td>\n",
       "      <td>631.623161</td>\n",
       "      <td>-0.400000</td>\n",
       "      <td>64.000000</td>\n",
       "      <td>1</td>\n",
       "    </tr>\n",
       "    <tr>\n",
       "      <th>1</th>\n",
       "      <td>2001</td>\n",
       "      <td>2</td>\n",
       "      <td>534.397104</td>\n",
       "      <td>-0.733333</td>\n",
       "      <td>65.333333</td>\n",
       "      <td>1</td>\n",
       "    </tr>\n",
       "    <tr>\n",
       "      <th>2</th>\n",
       "      <td>2001</td>\n",
       "      <td>3</td>\n",
       "      <td>453.538784</td>\n",
       "      <td>-1.066667</td>\n",
       "      <td>66.666667</td>\n",
       "      <td>1</td>\n",
       "    </tr>\n",
       "    <tr>\n",
       "      <th>3</th>\n",
       "      <td>2001</td>\n",
       "      <td>4</td>\n",
       "      <td>400.699718</td>\n",
       "      <td>-1.400000</td>\n",
       "      <td>68.000000</td>\n",
       "      <td>1</td>\n",
       "    </tr>\n",
       "    <tr>\n",
       "      <th>4</th>\n",
       "      <td>2001</td>\n",
       "      <td>5</td>\n",
       "      <td>378.171092</td>\n",
       "      <td>-1.666667</td>\n",
       "      <td>60.333333</td>\n",
       "      <td>1</td>\n",
       "    </tr>\n",
       "    <tr>\n",
       "      <th>...</th>\n",
       "      <td>...</td>\n",
       "      <td>...</td>\n",
       "      <td>...</td>\n",
       "      <td>...</td>\n",
       "      <td>...</td>\n",
       "      <td>...</td>\n",
       "    </tr>\n",
       "    <tr>\n",
       "      <th>8748</th>\n",
       "      <td>2002</td>\n",
       "      <td>8749</td>\n",
       "      <td>1146.221034</td>\n",
       "      <td>8.000000</td>\n",
       "      <td>54.000000</td>\n",
       "      <td>365</td>\n",
       "    </tr>\n",
       "    <tr>\n",
       "      <th>8749</th>\n",
       "      <td>2002</td>\n",
       "      <td>8750</td>\n",
       "      <td>1155.454385</td>\n",
       "      <td>8.800000</td>\n",
       "      <td>48.000000</td>\n",
       "      <td>365</td>\n",
       "    </tr>\n",
       "    <tr>\n",
       "      <th>8757</th>\n",
       "      <td>2002</td>\n",
       "      <td>8758</td>\n",
       "      <td>1051.278230</td>\n",
       "      <td>4.200000</td>\n",
       "      <td>72.000000</td>\n",
       "      <td>365</td>\n",
       "    </tr>\n",
       "    <tr>\n",
       "      <th>8758</th>\n",
       "      <td>2002</td>\n",
       "      <td>8759</td>\n",
       "      <td>983.742983</td>\n",
       "      <td>3.333333</td>\n",
       "      <td>77.000000</td>\n",
       "      <td>365</td>\n",
       "    </tr>\n",
       "    <tr>\n",
       "      <th>8759</th>\n",
       "      <td>2002</td>\n",
       "      <td>8760</td>\n",
       "      <td>927.698502</td>\n",
       "      <td>2.466667</td>\n",
       "      <td>82.000000</td>\n",
       "      <td>365</td>\n",
       "    </tr>\n",
       "  </tbody>\n",
       "</table>\n",
       "<p>17296 rows × 6 columns</p>\n",
       "</div>"
      ],
      "text/plain": [
       "      year  Hour  energy_consumpt  full_temp  full_humid  day_group\n",
       "0     2001     1       631.623161  -0.400000   64.000000          1\n",
       "1     2001     2       534.397104  -0.733333   65.333333          1\n",
       "2     2001     3       453.538784  -1.066667   66.666667          1\n",
       "3     2001     4       400.699718  -1.400000   68.000000          1\n",
       "4     2001     5       378.171092  -1.666667   60.333333          1\n",
       "...    ...   ...              ...        ...         ...        ...\n",
       "8748  2002  8749      1146.221034   8.000000   54.000000        365\n",
       "8749  2002  8750      1155.454385   8.800000   48.000000        365\n",
       "8757  2002  8758      1051.278230   4.200000   72.000000        365\n",
       "8758  2002  8759       983.742983   3.333333   77.000000        365\n",
       "8759  2002  8760       927.698502   2.466667   82.000000        365\n",
       "\n",
       "[17296 rows x 6 columns]"
      ]
     },
     "execution_count": 95,
     "metadata": {},
     "output_type": "execute_result"
    }
   ],
   "source": [
    "import math\n",
    "\n",
    "df3=df2.assign(day_group=0)\n",
    "df3['day_group'] = df3.apply(lambda row: math.ceil(row.Hour / 24), axis=1)\n",
    "df3"
   ]
  },
  {
   "cell_type": "markdown",
   "metadata": {},
   "source": [
    "Mean by day"
   ]
  },
  {
   "cell_type": "code",
   "execution_count": 96,
   "metadata": {},
   "outputs": [
    {
     "data": {
      "text/html": [
       "<div>\n",
       "<style scoped>\n",
       "    .dataframe tbody tr th:only-of-type {\n",
       "        vertical-align: middle;\n",
       "    }\n",
       "\n",
       "    .dataframe tbody tr th {\n",
       "        vertical-align: top;\n",
       "    }\n",
       "\n",
       "    .dataframe thead th {\n",
       "        text-align: right;\n",
       "    }\n",
       "</style>\n",
       "<table border=\"1\" class=\"dataframe\">\n",
       "  <thead>\n",
       "    <tr style=\"text-align: right;\">\n",
       "      <th></th>\n",
       "      <th></th>\n",
       "      <th>Hour</th>\n",
       "      <th>energy_consumpt</th>\n",
       "      <th>full_temp</th>\n",
       "      <th>full_humid</th>\n",
       "    </tr>\n",
       "    <tr>\n",
       "      <th>year</th>\n",
       "      <th>day_group</th>\n",
       "      <th></th>\n",
       "      <th></th>\n",
       "      <th></th>\n",
       "      <th></th>\n",
       "    </tr>\n",
       "  </thead>\n",
       "  <tbody>\n",
       "    <tr>\n",
       "      <th rowspan=\"5\" valign=\"top\">2001</th>\n",
       "      <th>1</th>\n",
       "      <td>12.500000</td>\n",
       "      <td>609.008607</td>\n",
       "      <td>3.133333</td>\n",
       "      <td>42.666667</td>\n",
       "    </tr>\n",
       "    <tr>\n",
       "      <th>2</th>\n",
       "      <td>36.500000</td>\n",
       "      <td>586.616228</td>\n",
       "      <td>7.404167</td>\n",
       "      <td>61.791667</td>\n",
       "    </tr>\n",
       "    <tr>\n",
       "      <th>3</th>\n",
       "      <td>60.500000</td>\n",
       "      <td>594.213777</td>\n",
       "      <td>9.491667</td>\n",
       "      <td>85.125000</td>\n",
       "    </tr>\n",
       "    <tr>\n",
       "      <th>4</th>\n",
       "      <td>84.500000</td>\n",
       "      <td>612.099398</td>\n",
       "      <td>9.608333</td>\n",
       "      <td>83.916667</td>\n",
       "    </tr>\n",
       "    <tr>\n",
       "      <th>5</th>\n",
       "      <td>108.500000</td>\n",
       "      <td>592.807758</td>\n",
       "      <td>11.695833</td>\n",
       "      <td>82.125000</td>\n",
       "    </tr>\n",
       "    <tr>\n",
       "      <th>...</th>\n",
       "      <th>...</th>\n",
       "      <td>...</td>\n",
       "      <td>...</td>\n",
       "      <td>...</td>\n",
       "      <td>...</td>\n",
       "    </tr>\n",
       "    <tr>\n",
       "      <th rowspan=\"5\" valign=\"top\">2002</th>\n",
       "      <th>361</th>\n",
       "      <td>8652.500000</td>\n",
       "      <td>872.631296</td>\n",
       "      <td>4.791667</td>\n",
       "      <td>70.333333</td>\n",
       "    </tr>\n",
       "    <tr>\n",
       "      <th>362</th>\n",
       "      <td>8675.571429</td>\n",
       "      <td>894.714423</td>\n",
       "      <td>5.638095</td>\n",
       "      <td>73.476190</td>\n",
       "    </tr>\n",
       "    <tr>\n",
       "      <th>363</th>\n",
       "      <td>8698.789474</td>\n",
       "      <td>869.056248</td>\n",
       "      <td>7.000000</td>\n",
       "      <td>81.157895</td>\n",
       "    </tr>\n",
       "    <tr>\n",
       "      <th>364</th>\n",
       "      <td>8722.789474</td>\n",
       "      <td>892.490348</td>\n",
       "      <td>4.915789</td>\n",
       "      <td>78.263158</td>\n",
       "    </tr>\n",
       "    <tr>\n",
       "      <th>365</th>\n",
       "      <td>8746.200000</td>\n",
       "      <td>837.765401</td>\n",
       "      <td>3.284444</td>\n",
       "      <td>83.533333</td>\n",
       "    </tr>\n",
       "  </tbody>\n",
       "</table>\n",
       "<p>731 rows × 4 columns</p>\n",
       "</div>"
      ],
      "text/plain": [
       "                       Hour  energy_consumpt  full_temp  full_humid\n",
       "year day_group                                                     \n",
       "2001 1            12.500000       609.008607   3.133333   42.666667\n",
       "     2            36.500000       586.616228   7.404167   61.791667\n",
       "     3            60.500000       594.213777   9.491667   85.125000\n",
       "     4            84.500000       612.099398   9.608333   83.916667\n",
       "     5           108.500000       592.807758  11.695833   82.125000\n",
       "...                     ...              ...        ...         ...\n",
       "2002 361        8652.500000       872.631296   4.791667   70.333333\n",
       "     362        8675.571429       894.714423   5.638095   73.476190\n",
       "     363        8698.789474       869.056248   7.000000   81.157895\n",
       "     364        8722.789474       892.490348   4.915789   78.263158\n",
       "     365        8746.200000       837.765401   3.284444   83.533333\n",
       "\n",
       "[731 rows x 4 columns]"
      ]
     },
     "execution_count": 96,
     "metadata": {},
     "output_type": "execute_result"
    }
   ],
   "source": [
    "df_dia = df3.groupby(['year', 'day_group']).mean()\n",
    "df_dia"
   ]
  },
  {
   "cell_type": "markdown",
   "metadata": {},
   "source": [
    "## Grouping by week"
   ]
  },
  {
   "cell_type": "code",
   "execution_count": 98,
   "metadata": {},
   "outputs": [
    {
     "data": {
      "text/html": [
       "<div>\n",
       "<style scoped>\n",
       "    .dataframe tbody tr th:only-of-type {\n",
       "        vertical-align: middle;\n",
       "    }\n",
       "\n",
       "    .dataframe tbody tr th {\n",
       "        vertical-align: top;\n",
       "    }\n",
       "\n",
       "    .dataframe thead th {\n",
       "        text-align: right;\n",
       "    }\n",
       "</style>\n",
       "<table border=\"1\" class=\"dataframe\">\n",
       "  <thead>\n",
       "    <tr style=\"text-align: right;\">\n",
       "      <th></th>\n",
       "      <th>year</th>\n",
       "      <th>Hour</th>\n",
       "      <th>energy_consumpt</th>\n",
       "      <th>full_temp</th>\n",
       "      <th>full_humid</th>\n",
       "      <th>day_group</th>\n",
       "      <th>week_group</th>\n",
       "    </tr>\n",
       "  </thead>\n",
       "  <tbody>\n",
       "    <tr>\n",
       "      <th>0</th>\n",
       "      <td>2001</td>\n",
       "      <td>1</td>\n",
       "      <td>631.623161</td>\n",
       "      <td>-0.400000</td>\n",
       "      <td>64.000000</td>\n",
       "      <td>0</td>\n",
       "      <td>1</td>\n",
       "    </tr>\n",
       "    <tr>\n",
       "      <th>1</th>\n",
       "      <td>2001</td>\n",
       "      <td>2</td>\n",
       "      <td>534.397104</td>\n",
       "      <td>-0.733333</td>\n",
       "      <td>65.333333</td>\n",
       "      <td>0</td>\n",
       "      <td>1</td>\n",
       "    </tr>\n",
       "    <tr>\n",
       "      <th>2</th>\n",
       "      <td>2001</td>\n",
       "      <td>3</td>\n",
       "      <td>453.538784</td>\n",
       "      <td>-1.066667</td>\n",
       "      <td>66.666667</td>\n",
       "      <td>0</td>\n",
       "      <td>1</td>\n",
       "    </tr>\n",
       "    <tr>\n",
       "      <th>3</th>\n",
       "      <td>2001</td>\n",
       "      <td>4</td>\n",
       "      <td>400.699718</td>\n",
       "      <td>-1.400000</td>\n",
       "      <td>68.000000</td>\n",
       "      <td>0</td>\n",
       "      <td>1</td>\n",
       "    </tr>\n",
       "    <tr>\n",
       "      <th>4</th>\n",
       "      <td>2001</td>\n",
       "      <td>5</td>\n",
       "      <td>378.171092</td>\n",
       "      <td>-1.666667</td>\n",
       "      <td>60.333333</td>\n",
       "      <td>0</td>\n",
       "      <td>1</td>\n",
       "    </tr>\n",
       "    <tr>\n",
       "      <th>...</th>\n",
       "      <td>...</td>\n",
       "      <td>...</td>\n",
       "      <td>...</td>\n",
       "      <td>...</td>\n",
       "      <td>...</td>\n",
       "      <td>...</td>\n",
       "      <td>...</td>\n",
       "    </tr>\n",
       "    <tr>\n",
       "      <th>8748</th>\n",
       "      <td>2002</td>\n",
       "      <td>8749</td>\n",
       "      <td>1146.221034</td>\n",
       "      <td>8.000000</td>\n",
       "      <td>54.000000</td>\n",
       "      <td>0</td>\n",
       "      <td>53</td>\n",
       "    </tr>\n",
       "    <tr>\n",
       "      <th>8749</th>\n",
       "      <td>2002</td>\n",
       "      <td>8750</td>\n",
       "      <td>1155.454385</td>\n",
       "      <td>8.800000</td>\n",
       "      <td>48.000000</td>\n",
       "      <td>0</td>\n",
       "      <td>53</td>\n",
       "    </tr>\n",
       "    <tr>\n",
       "      <th>8757</th>\n",
       "      <td>2002</td>\n",
       "      <td>8758</td>\n",
       "      <td>1051.278230</td>\n",
       "      <td>4.200000</td>\n",
       "      <td>72.000000</td>\n",
       "      <td>0</td>\n",
       "      <td>53</td>\n",
       "    </tr>\n",
       "    <tr>\n",
       "      <th>8758</th>\n",
       "      <td>2002</td>\n",
       "      <td>8759</td>\n",
       "      <td>983.742983</td>\n",
       "      <td>3.333333</td>\n",
       "      <td>77.000000</td>\n",
       "      <td>0</td>\n",
       "      <td>53</td>\n",
       "    </tr>\n",
       "    <tr>\n",
       "      <th>8759</th>\n",
       "      <td>2002</td>\n",
       "      <td>8760</td>\n",
       "      <td>927.698502</td>\n",
       "      <td>2.466667</td>\n",
       "      <td>82.000000</td>\n",
       "      <td>0</td>\n",
       "      <td>53</td>\n",
       "    </tr>\n",
       "  </tbody>\n",
       "</table>\n",
       "<p>17296 rows × 7 columns</p>\n",
       "</div>"
      ],
      "text/plain": [
       "      year  Hour  energy_consumpt  full_temp  full_humid  day_group  \\\n",
       "0     2001     1       631.623161  -0.400000   64.000000          0   \n",
       "1     2001     2       534.397104  -0.733333   65.333333          0   \n",
       "2     2001     3       453.538784  -1.066667   66.666667          0   \n",
       "3     2001     4       400.699718  -1.400000   68.000000          0   \n",
       "4     2001     5       378.171092  -1.666667   60.333333          0   \n",
       "...    ...   ...              ...        ...         ...        ...   \n",
       "8748  2002  8749      1146.221034   8.000000   54.000000          0   \n",
       "8749  2002  8750      1155.454385   8.800000   48.000000          0   \n",
       "8757  2002  8758      1051.278230   4.200000   72.000000          0   \n",
       "8758  2002  8759       983.742983   3.333333   77.000000          0   \n",
       "8759  2002  8760       927.698502   2.466667   82.000000          0   \n",
       "\n",
       "      week_group  \n",
       "0              1  \n",
       "1              1  \n",
       "2              1  \n",
       "3              1  \n",
       "4              1  \n",
       "...          ...  \n",
       "8748          53  \n",
       "8749          53  \n",
       "8757          53  \n",
       "8758          53  \n",
       "8759          53  \n",
       "\n",
       "[17296 rows x 7 columns]"
      ]
     },
     "execution_count": 98,
     "metadata": {},
     "output_type": "execute_result"
    }
   ],
   "source": [
    "df4=df2.assign(day_group=0)\n",
    "df4['week_group'] = df4.apply(lambda row: math.ceil(row.Hour / (24*7)), axis=1)\n",
    "df4"
   ]
  },
  {
   "cell_type": "code",
   "execution_count": 101,
   "metadata": {},
   "outputs": [
    {
     "data": {
      "text/html": [
       "<div>\n",
       "<style scoped>\n",
       "    .dataframe tbody tr th:only-of-type {\n",
       "        vertical-align: middle;\n",
       "    }\n",
       "\n",
       "    .dataframe tbody tr th {\n",
       "        vertical-align: top;\n",
       "    }\n",
       "\n",
       "    .dataframe thead th {\n",
       "        text-align: right;\n",
       "    }\n",
       "</style>\n",
       "<table border=\"1\" class=\"dataframe\">\n",
       "  <thead>\n",
       "    <tr style=\"text-align: right;\">\n",
       "      <th></th>\n",
       "      <th></th>\n",
       "      <th>Hour</th>\n",
       "      <th>energy_consumpt</th>\n",
       "      <th>full_temp</th>\n",
       "      <th>full_humid</th>\n",
       "      <th>day_group</th>\n",
       "    </tr>\n",
       "    <tr>\n",
       "      <th>year</th>\n",
       "      <th>week_group</th>\n",
       "      <th></th>\n",
       "      <th></th>\n",
       "      <th></th>\n",
       "      <th></th>\n",
       "      <th></th>\n",
       "    </tr>\n",
       "  </thead>\n",
       "  <tbody>\n",
       "    <tr>\n",
       "      <th rowspan=\"5\" valign=\"top\">2001</th>\n",
       "      <th>1</th>\n",
       "      <td>84.500000</td>\n",
       "      <td>594.031576</td>\n",
       "      <td>9.121429</td>\n",
       "      <td>72.928571</td>\n",
       "      <td>0.0</td>\n",
       "    </tr>\n",
       "    <tr>\n",
       "      <th>2</th>\n",
       "      <td>252.107784</td>\n",
       "      <td>547.057099</td>\n",
       "      <td>11.986028</td>\n",
       "      <td>68.133733</td>\n",
       "      <td>0.0</td>\n",
       "    </tr>\n",
       "    <tr>\n",
       "      <th>3</th>\n",
       "      <td>420.005988</td>\n",
       "      <td>608.236882</td>\n",
       "      <td>4.663273</td>\n",
       "      <td>62.317365</td>\n",
       "      <td>0.0</td>\n",
       "    </tr>\n",
       "    <tr>\n",
       "      <th>4</th>\n",
       "      <td>588.197605</td>\n",
       "      <td>606.616526</td>\n",
       "      <td>6.212375</td>\n",
       "      <td>62.203593</td>\n",
       "      <td>0.0</td>\n",
       "    </tr>\n",
       "    <tr>\n",
       "      <th>5</th>\n",
       "      <td>756.500000</td>\n",
       "      <td>533.342763</td>\n",
       "      <td>12.290476</td>\n",
       "      <td>71.464286</td>\n",
       "      <td>0.0</td>\n",
       "    </tr>\n",
       "    <tr>\n",
       "      <th>...</th>\n",
       "      <th>...</th>\n",
       "      <td>...</td>\n",
       "      <td>...</td>\n",
       "      <td>...</td>\n",
       "      <td>...</td>\n",
       "      <td>...</td>\n",
       "    </tr>\n",
       "    <tr>\n",
       "      <th rowspan=\"5\" valign=\"top\">2002</th>\n",
       "      <th>49</th>\n",
       "      <td>8148.500000</td>\n",
       "      <td>808.895731</td>\n",
       "      <td>9.504762</td>\n",
       "      <td>71.071429</td>\n",
       "      <td>0.0</td>\n",
       "    </tr>\n",
       "    <tr>\n",
       "      <th>50</th>\n",
       "      <td>8316.500000</td>\n",
       "      <td>834.009269</td>\n",
       "      <td>8.250000</td>\n",
       "      <td>72.565476</td>\n",
       "      <td>0.0</td>\n",
       "    </tr>\n",
       "    <tr>\n",
       "      <th>51</th>\n",
       "      <td>8484.500000</td>\n",
       "      <td>834.976936</td>\n",
       "      <td>9.158333</td>\n",
       "      <td>82.755952</td>\n",
       "      <td>0.0</td>\n",
       "    </tr>\n",
       "    <tr>\n",
       "      <th>52</th>\n",
       "      <td>8647.619355</td>\n",
       "      <td>875.436035</td>\n",
       "      <td>6.767097</td>\n",
       "      <td>70.083871</td>\n",
       "      <td>0.0</td>\n",
       "    </tr>\n",
       "    <tr>\n",
       "      <th>53</th>\n",
       "      <td>8746.200000</td>\n",
       "      <td>837.765401</td>\n",
       "      <td>3.284444</td>\n",
       "      <td>83.533333</td>\n",
       "      <td>0.0</td>\n",
       "    </tr>\n",
       "  </tbody>\n",
       "</table>\n",
       "<p>106 rows × 5 columns</p>\n",
       "</div>"
      ],
      "text/plain": [
       "                        Hour  energy_consumpt  full_temp  full_humid  \\\n",
       "year week_group                                                        \n",
       "2001 1             84.500000       594.031576   9.121429   72.928571   \n",
       "     2            252.107784       547.057099  11.986028   68.133733   \n",
       "     3            420.005988       608.236882   4.663273   62.317365   \n",
       "     4            588.197605       606.616526   6.212375   62.203593   \n",
       "     5            756.500000       533.342763  12.290476   71.464286   \n",
       "...                      ...              ...        ...         ...   \n",
       "2002 49          8148.500000       808.895731   9.504762   71.071429   \n",
       "     50          8316.500000       834.009269   8.250000   72.565476   \n",
       "     51          8484.500000       834.976936   9.158333   82.755952   \n",
       "     52          8647.619355       875.436035   6.767097   70.083871   \n",
       "     53          8746.200000       837.765401   3.284444   83.533333   \n",
       "\n",
       "                 day_group  \n",
       "year week_group             \n",
       "2001 1                 0.0  \n",
       "     2                 0.0  \n",
       "     3                 0.0  \n",
       "     4                 0.0  \n",
       "     5                 0.0  \n",
       "...                    ...  \n",
       "2002 49                0.0  \n",
       "     50                0.0  \n",
       "     51                0.0  \n",
       "     52                0.0  \n",
       "     53                0.0  \n",
       "\n",
       "[106 rows x 5 columns]"
      ]
     },
     "execution_count": 101,
     "metadata": {},
     "output_type": "execute_result"
    }
   ],
   "source": [
    "# mean by week\n",
    "\n",
    "df_week = df4.groupby(['year', 'week_group']).mean()\n",
    "df_week"
   ]
  },
  {
   "cell_type": "markdown",
   "metadata": {
    "id": "5fOV5znv5fZK"
   },
   "source": [
    "## Análisis predictivo"
   ]
  },
  {
   "cell_type": "code",
   "execution_count": 103,
   "metadata": {
    "colab": {
     "base_uri": "https://localhost:8080/",
     "height": 424
    },
    "id": "k_-cxH6J8B--",
    "outputId": "0a2ea570-48dd-440d-b0f7-0b7b8540ae8f"
   },
   "outputs": [
    {
     "data": {
      "text/html": [
       "<div>\n",
       "<style scoped>\n",
       "    .dataframe tbody tr th:only-of-type {\n",
       "        vertical-align: middle;\n",
       "    }\n",
       "\n",
       "    .dataframe tbody tr th {\n",
       "        vertical-align: top;\n",
       "    }\n",
       "\n",
       "    .dataframe thead th {\n",
       "        text-align: right;\n",
       "    }\n",
       "</style>\n",
       "<table border=\"1\" class=\"dataframe\">\n",
       "  <thead>\n",
       "    <tr style=\"text-align: right;\">\n",
       "      <th></th>\n",
       "      <th>year</th>\n",
       "      <th>Hour</th>\n",
       "      <th>energy_consumpt</th>\n",
       "      <th>full_temp</th>\n",
       "      <th>full_humid</th>\n",
       "    </tr>\n",
       "  </thead>\n",
       "  <tbody>\n",
       "    <tr>\n",
       "      <th>0</th>\n",
       "      <td>2001</td>\n",
       "      <td>1</td>\n",
       "      <td>631.623161</td>\n",
       "      <td>-0.400000</td>\n",
       "      <td>64.000000</td>\n",
       "    </tr>\n",
       "    <tr>\n",
       "      <th>1</th>\n",
       "      <td>2001</td>\n",
       "      <td>2</td>\n",
       "      <td>534.397104</td>\n",
       "      <td>-0.733333</td>\n",
       "      <td>65.333333</td>\n",
       "    </tr>\n",
       "    <tr>\n",
       "      <th>2</th>\n",
       "      <td>2001</td>\n",
       "      <td>3</td>\n",
       "      <td>453.538784</td>\n",
       "      <td>-1.066667</td>\n",
       "      <td>66.666667</td>\n",
       "    </tr>\n",
       "    <tr>\n",
       "      <th>3</th>\n",
       "      <td>2001</td>\n",
       "      <td>4</td>\n",
       "      <td>400.699718</td>\n",
       "      <td>-1.400000</td>\n",
       "      <td>68.000000</td>\n",
       "    </tr>\n",
       "    <tr>\n",
       "      <th>4</th>\n",
       "      <td>2001</td>\n",
       "      <td>5</td>\n",
       "      <td>378.171092</td>\n",
       "      <td>-1.666667</td>\n",
       "      <td>60.333333</td>\n",
       "    </tr>\n",
       "    <tr>\n",
       "      <th>...</th>\n",
       "      <td>...</td>\n",
       "      <td>...</td>\n",
       "      <td>...</td>\n",
       "      <td>...</td>\n",
       "      <td>...</td>\n",
       "    </tr>\n",
       "    <tr>\n",
       "      <th>8748</th>\n",
       "      <td>2002</td>\n",
       "      <td>8749</td>\n",
       "      <td>1146.221034</td>\n",
       "      <td>8.000000</td>\n",
       "      <td>54.000000</td>\n",
       "    </tr>\n",
       "    <tr>\n",
       "      <th>8749</th>\n",
       "      <td>2002</td>\n",
       "      <td>8750</td>\n",
       "      <td>1155.454385</td>\n",
       "      <td>8.800000</td>\n",
       "      <td>48.000000</td>\n",
       "    </tr>\n",
       "    <tr>\n",
       "      <th>8757</th>\n",
       "      <td>2002</td>\n",
       "      <td>8758</td>\n",
       "      <td>1051.278230</td>\n",
       "      <td>4.200000</td>\n",
       "      <td>72.000000</td>\n",
       "    </tr>\n",
       "    <tr>\n",
       "      <th>8758</th>\n",
       "      <td>2002</td>\n",
       "      <td>8759</td>\n",
       "      <td>983.742983</td>\n",
       "      <td>3.333333</td>\n",
       "      <td>77.000000</td>\n",
       "    </tr>\n",
       "    <tr>\n",
       "      <th>8759</th>\n",
       "      <td>2002</td>\n",
       "      <td>8760</td>\n",
       "      <td>927.698502</td>\n",
       "      <td>2.466667</td>\n",
       "      <td>82.000000</td>\n",
       "    </tr>\n",
       "  </tbody>\n",
       "</table>\n",
       "<p>17296 rows × 5 columns</p>\n",
       "</div>"
      ],
      "text/plain": [
       "      year  Hour  energy_consumpt  full_temp  full_humid\n",
       "0     2001     1       631.623161  -0.400000   64.000000\n",
       "1     2001     2       534.397104  -0.733333   65.333333\n",
       "2     2001     3       453.538784  -1.066667   66.666667\n",
       "3     2001     4       400.699718  -1.400000   68.000000\n",
       "4     2001     5       378.171092  -1.666667   60.333333\n",
       "...    ...   ...              ...        ...         ...\n",
       "8748  2002  8749      1146.221034   8.000000   54.000000\n",
       "8749  2002  8750      1155.454385   8.800000   48.000000\n",
       "8757  2002  8758      1051.278230   4.200000   72.000000\n",
       "8758  2002  8759       983.742983   3.333333   77.000000\n",
       "8759  2002  8760       927.698502   2.466667   82.000000\n",
       "\n",
       "[17296 rows x 5 columns]"
      ]
     },
     "execution_count": 103,
     "metadata": {},
     "output_type": "execute_result"
    }
   ],
   "source": [
    "# Preparación de los datos para la predicción caso general\n",
    "df2"
   ]
  },
  {
   "cell_type": "code",
   "execution_count": 104,
   "metadata": {
    "id": "maTqb4mP5e3f"
   },
   "outputs": [],
   "source": [
    "# Importamos la librería del modelo de regresión lineal\n",
    "from sklearn.linear_model import LinearRegression\n",
    "\n",
    "#Instanciamos el modelo\n",
    "lr = LinearRegression(fit_intercept=True)"
   ]
  },
  {
   "cell_type": "code",
   "execution_count": 105,
   "metadata": {
    "id": "ORvJha9r54qA"
   },
   "outputs": [],
   "source": [
    "# Preparación de los datos\n",
    "X = df2.iloc[:, [0,1]].values\n",
    "y = df2.iloc[:, -1].values\n",
    "\n",
    "# Importación de la libreria para definir los datos de entrenamiento y prueba\n",
    "from sklearn.model_selection import train_test_split\n",
    "X_train, X_test, y_train, y_test = train_test_split(X, y, test_size=0.2, random_state=0)"
   ]
  },
  {
   "cell_type": "code",
   "execution_count": 106,
   "metadata": {
    "id": "ORvJha9r54qA"
   },
   "outputs": [],
   "source": [
    "# Preparación de los datos\n",
    "X = df2.iloc[:, [0,1]].values\n",
    "y = df2.iloc[:, -1].values\n",
    "\n",
    "# Importación de la libreria para definir los datos de entrenamiento y prueba\n",
    "from sklearn.model_selection import train_test_split\n",
    "X_train, X_test, y_train, y_test = train_test_split(X, y, test_size=0.2, random_state=0)"
   ]
  },
  {
   "cell_type": "code",
   "execution_count": 107,
   "metadata": {
    "colab": {
     "base_uri": "https://localhost:8080/"
    },
    "id": "d137BWmh93cA",
    "outputId": "4d0b21c8-bf67-442b-ad85-5580e52e3215"
   },
   "outputs": [
    {
     "data": {
      "text/html": [
       "<style>#sk-container-id-1 {color: black;background-color: white;}#sk-container-id-1 pre{padding: 0;}#sk-container-id-1 div.sk-toggleable {background-color: white;}#sk-container-id-1 label.sk-toggleable__label {cursor: pointer;display: block;width: 100%;margin-bottom: 0;padding: 0.3em;box-sizing: border-box;text-align: center;}#sk-container-id-1 label.sk-toggleable__label-arrow:before {content: \"▸\";float: left;margin-right: 0.25em;color: #696969;}#sk-container-id-1 label.sk-toggleable__label-arrow:hover:before {color: black;}#sk-container-id-1 div.sk-estimator:hover label.sk-toggleable__label-arrow:before {color: black;}#sk-container-id-1 div.sk-toggleable__content {max-height: 0;max-width: 0;overflow: hidden;text-align: left;background-color: #f0f8ff;}#sk-container-id-1 div.sk-toggleable__content pre {margin: 0.2em;color: black;border-radius: 0.25em;background-color: #f0f8ff;}#sk-container-id-1 input.sk-toggleable__control:checked~div.sk-toggleable__content {max-height: 200px;max-width: 100%;overflow: auto;}#sk-container-id-1 input.sk-toggleable__control:checked~label.sk-toggleable__label-arrow:before {content: \"▾\";}#sk-container-id-1 div.sk-estimator input.sk-toggleable__control:checked~label.sk-toggleable__label {background-color: #d4ebff;}#sk-container-id-1 div.sk-label input.sk-toggleable__control:checked~label.sk-toggleable__label {background-color: #d4ebff;}#sk-container-id-1 input.sk-hidden--visually {border: 0;clip: rect(1px 1px 1px 1px);clip: rect(1px, 1px, 1px, 1px);height: 1px;margin: -1px;overflow: hidden;padding: 0;position: absolute;width: 1px;}#sk-container-id-1 div.sk-estimator {font-family: monospace;background-color: #f0f8ff;border: 1px dotted black;border-radius: 0.25em;box-sizing: border-box;margin-bottom: 0.5em;}#sk-container-id-1 div.sk-estimator:hover {background-color: #d4ebff;}#sk-container-id-1 div.sk-parallel-item::after {content: \"\";width: 100%;border-bottom: 1px solid gray;flex-grow: 1;}#sk-container-id-1 div.sk-label:hover label.sk-toggleable__label {background-color: #d4ebff;}#sk-container-id-1 div.sk-serial::before {content: \"\";position: absolute;border-left: 1px solid gray;box-sizing: border-box;top: 0;bottom: 0;left: 50%;z-index: 0;}#sk-container-id-1 div.sk-serial {display: flex;flex-direction: column;align-items: center;background-color: white;padding-right: 0.2em;padding-left: 0.2em;position: relative;}#sk-container-id-1 div.sk-item {position: relative;z-index: 1;}#sk-container-id-1 div.sk-parallel {display: flex;align-items: stretch;justify-content: center;background-color: white;position: relative;}#sk-container-id-1 div.sk-item::before, #sk-container-id-1 div.sk-parallel-item::before {content: \"\";position: absolute;border-left: 1px solid gray;box-sizing: border-box;top: 0;bottom: 0;left: 50%;z-index: -1;}#sk-container-id-1 div.sk-parallel-item {display: flex;flex-direction: column;z-index: 1;position: relative;background-color: white;}#sk-container-id-1 div.sk-parallel-item:first-child::after {align-self: flex-end;width: 50%;}#sk-container-id-1 div.sk-parallel-item:last-child::after {align-self: flex-start;width: 50%;}#sk-container-id-1 div.sk-parallel-item:only-child::after {width: 0;}#sk-container-id-1 div.sk-dashed-wrapped {border: 1px dashed gray;margin: 0 0.4em 0.5em 0.4em;box-sizing: border-box;padding-bottom: 0.4em;background-color: white;}#sk-container-id-1 div.sk-label label {font-family: monospace;font-weight: bold;display: inline-block;line-height: 1.2em;}#sk-container-id-1 div.sk-label-container {text-align: center;}#sk-container-id-1 div.sk-container {/* jupyter's `normalize.less` sets `[hidden] { display: none; }` but bootstrap.min.css set `[hidden] { display: none !important; }` so we also need the `!important` here to be able to override the default hidden behavior on the sphinx rendered scikit-learn.org. See: https://github.com/scikit-learn/scikit-learn/issues/21755 */display: inline-block !important;position: relative;}#sk-container-id-1 div.sk-text-repr-fallback {display: none;}</style><div id=\"sk-container-id-1\" class=\"sk-top-container\"><div class=\"sk-text-repr-fallback\"><pre>LinearRegression()</pre><b>In a Jupyter environment, please rerun this cell to show the HTML representation or trust the notebook. <br />On GitHub, the HTML representation is unable to render, please try loading this page with nbviewer.org.</b></div><div class=\"sk-container\" hidden><div class=\"sk-item\"><div class=\"sk-estimator sk-toggleable\"><input class=\"sk-toggleable__control sk-hidden--visually\" id=\"sk-estimator-id-1\" type=\"checkbox\" checked><label for=\"sk-estimator-id-1\" class=\"sk-toggleable__label sk-toggleable__label-arrow\">LinearRegression</label><div class=\"sk-toggleable__content\"><pre>LinearRegression()</pre></div></div></div></div></div>"
      ],
      "text/plain": [
       "LinearRegression()"
      ]
     },
     "execution_count": 107,
     "metadata": {},
     "output_type": "execute_result"
    }
   ],
   "source": [
    "# # Entrenamiento del modelo\n",
    "lr.fit(X_train, y_train)"
   ]
  },
  {
   "cell_type": "code",
   "execution_count": 108,
   "metadata": {
    "id": "zdAvCiwc5_Xo"
   },
   "outputs": [],
   "source": [
    "# Predicciones con train y test\n",
    "predictions_train = lr.predict(X_train)\n",
    "predictions_test = lr.predict(X_test)"
   ]
  },
  {
   "cell_type": "code",
   "execution_count": 109,
   "metadata": {
    "colab": {
     "base_uri": "https://localhost:8080/"
    },
    "id": "hTEGZj8MC-Je",
    "outputId": "ef1e2b68-4502-42ad-a273-b48653d096d0"
   },
   "outputs": [
    {
     "data": {
      "text/plain": [
       "array([62.01363983, 61.70160187, 62.35690298, ..., 61.55412585,\n",
       "       62.07103198, 61.90917159])"
      ]
     },
     "execution_count": 109,
     "metadata": {},
     "output_type": "execute_result"
    }
   ],
   "source": [
    "predictions_test"
   ]
  },
  {
   "cell_type": "code",
   "execution_count": 110,
   "metadata": {
    "colab": {
     "base_uri": "https://localhost:8080/"
    },
    "id": "D23rfN9Q6FKm",
    "outputId": "0fedfedb-9ed1-4a70-8331-032667c68e65"
   },
   "outputs": [
    {
     "data": {
      "text/plain": [
       "-4093.1122335119503"
      ]
     },
     "execution_count": 110,
     "metadata": {},
     "output_type": "execute_result"
    }
   ],
   "source": [
    "# Métricas para comprobar la precisión del modelo\n",
    "from sklearn.metrics import mean_absolute_error\n",
    "from sklearn.metrics import mean_squared_error\n",
    "from sklearn.metrics import r2_score\n",
    "\n",
    "mean_absolute_error(predictions_train, y_train)\n",
    "np.sqrt(mean_squared_error(predictions_train, y_train))\n",
    "\n",
    "mean_absolute_error(predictions_test, y_test)\n",
    "np.sqrt(mean_squared_error(predictions_test, y_test))\n",
    "\n",
    "r2_score(predictions_train, y_train)\n",
    "r2_score(predictions_test, y_test)\n",
    "\n",
    "#np.min(df_ad['Sales])\n",
    "#np.max(df_ad['Sales'])"
   ]
  },
  {
   "cell_type": "code",
   "execution_count": null,
   "metadata": {
    "colab": {
     "base_uri": "https://localhost:8080/"
    },
    "id": "eLHf_fZjEPOi",
    "outputId": "8265e9ad-e878-4552-d3ff-7aba782bf2bc"
   },
   "outputs": [
    {
     "data": {
      "text/plain": [
       "177.9423870641691"
      ]
     },
     "metadata": {},
     "output_type": "display_data"
    }
   ],
   "source": [
    "mean_absolute_error(predictions_train, y_train)"
   ]
  },
  {
   "cell_type": "code",
   "execution_count": null,
   "metadata": {
    "colab": {
     "base_uri": "https://localhost:8080/"
    },
    "id": "YOdNCiXFERTB",
    "outputId": "9c0c395d-65db-4506-e0b2-740a502cf7ba"
   },
   "outputs": [
    {
     "data": {
      "text/plain": [
       "175.17420581706918"
      ]
     },
     "metadata": {},
     "output_type": "display_data"
    }
   ],
   "source": [
    "mean_absolute_error(predictions_test, y_test)"
   ]
  },
  {
   "cell_type": "code",
   "execution_count": null,
   "metadata": {
    "colab": {
     "base_uri": "https://localhost:8080/"
    },
    "id": "C32yhnUVHOTA",
    "outputId": "b8ad11c6-134a-4f5d-cea5-c28f09dea9fa"
   },
   "outputs": [
    {
     "data": {
      "text/plain": [
       "-13.672210376494375"
      ]
     },
     "metadata": {},
     "output_type": "display_data"
    }
   ],
   "source": [
    "r2_score(predictions_train, y_train)"
   ]
  },
  {
   "cell_type": "code",
   "execution_count": null,
   "metadata": {
    "colab": {
     "base_uri": "https://localhost:8080/"
    },
    "id": "5PAvSZJSHUKW",
    "outputId": "f81b62b2-b7af-4490-badf-9d6b91c50091"
   },
   "outputs": [
    {
     "data": {
      "text/plain": [
       "-12.215794037927413"
      ]
     },
     "metadata": {},
     "output_type": "display_data"
    }
   ],
   "source": [
    "r2_score(predictions_test, y_test)"
   ]
  },
  {
   "cell_type": "markdown",
   "metadata": {
    "id": "gfpA1VBKc8vq"
   },
   "source": [
    "## XGBOOST"
   ]
  },
  {
   "cell_type": "code",
   "execution_count": null,
   "metadata": {
    "id": "zbnycs5NM7oo"
   },
   "outputs": [],
   "source": [
    "# check xgboost version\n",
    "import xgboost as xg"
   ]
  },
  {
   "cell_type": "code",
   "execution_count": null,
   "metadata": {
    "id": "IL136ZmoM9QR"
   },
   "outputs": [],
   "source": [
    "# create an xgboost regression model\n",
    "model = xg.XGBRegressor(n_estimators=1000, max_depth=7, eta=0.1, subsample=0.7, colsample_bytree=0.8)"
   ]
  },
  {
   "cell_type": "code",
   "execution_count": null,
   "metadata": {
    "id": "dfR85YjHN_pr"
   },
   "outputs": [],
   "source": [
    "# Preparación de los datos\n",
    "X = df2.iloc[:, [0,1]].values\n",
    "y = df2.iloc[:, -1].values\n",
    "\n",
    "# Importación de la libreria para definir los datos de entrenamiento y prueba\n",
    "from sklearn.model_selection import train_test_split\n",
    "X_train, X_test, y_train, y_test = train_test_split(X, y, test_size=0.2, random_state=0)"
   ]
  },
  {
   "cell_type": "code",
   "execution_count": null,
   "metadata": {
    "colab": {
     "base_uri": "https://localhost:8080/"
    },
    "id": "hkmWlOT_dBZj",
    "outputId": "ee8a21b0-0a9a-4a74-d227-1cc174b51086"
   },
   "outputs": [
    {
     "data": {
      "text/plain": [
       "((14008, 2), (3502, 2))"
      ]
     },
     "metadata": {},
     "output_type": "display_data"
    }
   ],
   "source": [
    "X_train.shape, X_test.shape"
   ]
  },
  {
   "cell_type": "code",
   "execution_count": null,
   "metadata": {
    "id": "E_vMYP4Mfioi"
   },
   "outputs": [],
   "source": [
    "from sklearn.preprocessing import StandardScaler\n",
    "\n",
    "sc = StandardScaler()\n",
    "X_train = sc.fit_transform(X_train)\n",
    "X_test = sc.transform(X_test)"
   ]
  },
  {
   "cell_type": "code",
   "execution_count": null,
   "metadata": {
    "id": "rGOgRSZUdgbI"
   },
   "outputs": [],
   "source": [
    "from xgboost.sklearn import XGBRegressor\n",
    "model = XGBRegressor()"
   ]
  },
  {
   "cell_type": "code",
   "execution_count": null,
   "metadata": {
    "colab": {
     "base_uri": "https://localhost:8080/"
    },
    "id": "_bCwZhJIfNSQ",
    "outputId": "99245d22-55eb-4b3c-ad3f-24b584572ac0"
   },
   "outputs": [
    {
     "name": "stdout",
     "output_type": "stream",
     "text": [
      "[00:01:04] WARNING: /workspace/src/objective/regression_obj.cu:152: reg:linear is now deprecated in favor of reg:squarederror.\n"
     ]
    },
    {
     "data": {
      "text/plain": [
       "XGBRegressor()"
      ]
     },
     "metadata": {},
     "output_type": "display_data"
    }
   ],
   "source": [
    "model.fit(X_train, y_train)"
   ]
  },
  {
   "cell_type": "code",
   "execution_count": null,
   "metadata": {
    "colab": {
     "base_uri": "https://localhost:8080/"
    },
    "id": "LF1vybOgf_jG",
    "outputId": "395f4e7c-6918-4cd2-f2db-4f49d8e423d7"
   },
   "outputs": [
    {
     "data": {
      "text/plain": [
       "array([543.77655, 523.1938 , 713.50146, 510.58746, 631.89044, 696.7837 ,\n",
       "       496.15262, 755.9282 , 576.67596], dtype=float32)"
      ]
     },
     "metadata": {},
     "output_type": "display_data"
    }
   ],
   "source": [
    "from sklearn.metrics import mean_absolute_error\n",
    "from sklearn.metrics import accuracy_score\n",
    "\n",
    "predictions = model.predict(X_test)\n",
    "predictions[1:10]"
   ]
  },
  {
   "cell_type": "code",
   "execution_count": null,
   "metadata": {
    "colab": {
     "base_uri": "https://localhost:8080/"
    },
    "id": "8ouJWylkiIi3",
    "outputId": "243bf0a1-c75d-4aac-9bb3-e14618c82fa8"
   },
   "outputs": [
    {
     "data": {
      "text/plain": [
       "array([ 9.73333333, 84.66666667])"
      ]
     },
     "metadata": {},
     "output_type": "display_data"
    }
   ],
   "source": [
    "X_test[0]"
   ]
  },
  {
   "cell_type": "code",
   "execution_count": null,
   "metadata": {
    "colab": {
     "base_uri": "https://localhost:8080/"
    },
    "id": "m6Z5fPpyixGN",
    "outputId": "280b5d9e-b0bf-4a27-aaf6-f2c057be2197"
   },
   "outputs": [
    {
     "name": "stdout",
     "output_type": "stream",
     "text": [
      "0.1436788175533773\n"
     ]
    }
   ],
   "source": [
    "# Métricas para comprobar la precisión del modelo\n",
    "from sklearn.metrics import mean_absolute_error\n",
    "from sklearn.metrics import mean_squared_error\n",
    "from sklearn.metrics import r2_score\n",
    "\n",
    "pred_train = model.predict(X_train)\n",
    "\n",
    "print(r2_score(y_train, pred_train))"
   ]
  }
 ],
 "metadata": {
  "interpreter": {
   "hash": "973db81fae08cbebe271deb6dafc1c27e294f27fd570db1296c4ed52f6060639"
  },
  "kernelspec": {
   "display_name": "Python 3.10.4 64-bit",
   "language": "python",
   "name": "python3"
  },
  "language_info": {
   "codemirror_mode": {
    "name": "ipython",
    "version": 3
   },
   "file_extension": ".py",
   "mimetype": "text/x-python",
   "name": "python",
   "nbconvert_exporter": "python",
   "pygments_lexer": "ipython3",
   "version": "3.10.4"
  },
  "orig_nbformat": 4
 },
 "nbformat": 4,
 "nbformat_minor": 2
}
